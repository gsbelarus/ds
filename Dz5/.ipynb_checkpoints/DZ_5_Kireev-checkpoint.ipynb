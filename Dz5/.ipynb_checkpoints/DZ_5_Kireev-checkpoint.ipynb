{
 "cells": [
  {
   "cell_type": "code",
   "execution_count": 1,
   "metadata": {},
   "outputs": [],
   "source": [
    "import matplotlib.pyplot as plt\n",
    "import pandas as pd\n",
    "import numpy as np\n",
    "import tqdm\n",
    "import seaborn as sns\n",
    "\n",
    "from sklearn.metrics import roc_curve\n",
    "from sklearn.metrics import auc\n",
    "\n",
    "%matplotlib inline\n",
    "%config InlineBackend.figure_format = 'retina'\n",
    "\n",
    "# игнорировать предупреждения\n",
    "import warnings\n",
    "warnings.filterwarnings(\"ignore\")"
   ]
  },
  {
   "cell_type": "code",
   "execution_count": 2,
   "metadata": {},
   "outputs": [
    {
     "data": {
      "text/html": [
       "<div>\n",
       "<style scoped>\n",
       "    .dataframe tbody tr th:only-of-type {\n",
       "        vertical-align: middle;\n",
       "    }\n",
       "\n",
       "    .dataframe tbody tr th {\n",
       "        vertical-align: top;\n",
       "    }\n",
       "\n",
       "    .dataframe thead th {\n",
       "        text-align: right;\n",
       "    }\n",
       "</style>\n",
       "<table border=\"1\" class=\"dataframe\">\n",
       "  <thead>\n",
       "    <tr style=\"text-align: right;\">\n",
       "      <th></th>\n",
       "      <th>Gender</th>\n",
       "      <th>Age</th>\n",
       "      <th>Height</th>\n",
       "      <th>Weight</th>\n",
       "      <th>family_history_with_overweight</th>\n",
       "      <th>FAVC</th>\n",
       "      <th>FCVC</th>\n",
       "      <th>NCP</th>\n",
       "      <th>CAEC</th>\n",
       "      <th>SMOKE</th>\n",
       "      <th>CH2O</th>\n",
       "      <th>SCC</th>\n",
       "      <th>FAF</th>\n",
       "      <th>TUE</th>\n",
       "      <th>CALC</th>\n",
       "      <th>MTRANS</th>\n",
       "      <th>NObeyesdad</th>\n",
       "    </tr>\n",
       "  </thead>\n",
       "  <tbody>\n",
       "    <tr>\n",
       "      <th>0</th>\n",
       "      <td>Female</td>\n",
       "      <td>21</td>\n",
       "      <td>162</td>\n",
       "      <td>64</td>\n",
       "      <td>yes</td>\n",
       "      <td>no</td>\n",
       "      <td>2</td>\n",
       "      <td>3</td>\n",
       "      <td>Sometimes</td>\n",
       "      <td>no</td>\n",
       "      <td>2</td>\n",
       "      <td>no</td>\n",
       "      <td>0</td>\n",
       "      <td>1</td>\n",
       "      <td>no</td>\n",
       "      <td>Public_Transportation</td>\n",
       "      <td>Normal_Weight</td>\n",
       "    </tr>\n",
       "    <tr>\n",
       "      <th>1</th>\n",
       "      <td>Female</td>\n",
       "      <td>21</td>\n",
       "      <td>152</td>\n",
       "      <td>56</td>\n",
       "      <td>yes</td>\n",
       "      <td>no</td>\n",
       "      <td>3</td>\n",
       "      <td>3</td>\n",
       "      <td>Sometimes</td>\n",
       "      <td>yes</td>\n",
       "      <td>3</td>\n",
       "      <td>yes</td>\n",
       "      <td>3</td>\n",
       "      <td>0</td>\n",
       "      <td>Sometimes</td>\n",
       "      <td>Public_Transportation</td>\n",
       "      <td>Normal_Weight</td>\n",
       "    </tr>\n",
       "    <tr>\n",
       "      <th>2</th>\n",
       "      <td>Male</td>\n",
       "      <td>23</td>\n",
       "      <td>180</td>\n",
       "      <td>77</td>\n",
       "      <td>yes</td>\n",
       "      <td>no</td>\n",
       "      <td>2</td>\n",
       "      <td>3</td>\n",
       "      <td>Sometimes</td>\n",
       "      <td>no</td>\n",
       "      <td>2</td>\n",
       "      <td>no</td>\n",
       "      <td>2</td>\n",
       "      <td>1</td>\n",
       "      <td>Frequently</td>\n",
       "      <td>Public_Transportation</td>\n",
       "      <td>Normal_Weight</td>\n",
       "    </tr>\n",
       "    <tr>\n",
       "      <th>3</th>\n",
       "      <td>Male</td>\n",
       "      <td>27</td>\n",
       "      <td>180</td>\n",
       "      <td>87</td>\n",
       "      <td>no</td>\n",
       "      <td>no</td>\n",
       "      <td>3</td>\n",
       "      <td>3</td>\n",
       "      <td>Sometimes</td>\n",
       "      <td>no</td>\n",
       "      <td>2</td>\n",
       "      <td>no</td>\n",
       "      <td>2</td>\n",
       "      <td>0</td>\n",
       "      <td>Frequently</td>\n",
       "      <td>Walking</td>\n",
       "      <td>Overweight_Level_I</td>\n",
       "    </tr>\n",
       "    <tr>\n",
       "      <th>4</th>\n",
       "      <td>Male</td>\n",
       "      <td>22</td>\n",
       "      <td>178</td>\n",
       "      <td>89</td>\n",
       "      <td>no</td>\n",
       "      <td>no</td>\n",
       "      <td>2</td>\n",
       "      <td>1</td>\n",
       "      <td>Sometimes</td>\n",
       "      <td>no</td>\n",
       "      <td>2</td>\n",
       "      <td>no</td>\n",
       "      <td>0</td>\n",
       "      <td>0</td>\n",
       "      <td>Sometimes</td>\n",
       "      <td>Public_Transportation</td>\n",
       "      <td>Overweight_Level_II</td>\n",
       "    </tr>\n",
       "    <tr>\n",
       "      <th>...</th>\n",
       "      <td>...</td>\n",
       "      <td>...</td>\n",
       "      <td>...</td>\n",
       "      <td>...</td>\n",
       "      <td>...</td>\n",
       "      <td>...</td>\n",
       "      <td>...</td>\n",
       "      <td>...</td>\n",
       "      <td>...</td>\n",
       "      <td>...</td>\n",
       "      <td>...</td>\n",
       "      <td>...</td>\n",
       "      <td>...</td>\n",
       "      <td>...</td>\n",
       "      <td>...</td>\n",
       "      <td>...</td>\n",
       "      <td>...</td>\n",
       "    </tr>\n",
       "    <tr>\n",
       "      <th>2106</th>\n",
       "      <td>Female</td>\n",
       "      <td>20</td>\n",
       "      <td>171</td>\n",
       "      <td>131</td>\n",
       "      <td>yes</td>\n",
       "      <td>yes</td>\n",
       "      <td>3</td>\n",
       "      <td>3</td>\n",
       "      <td>Sometimes</td>\n",
       "      <td>no</td>\n",
       "      <td>1</td>\n",
       "      <td>no</td>\n",
       "      <td>1</td>\n",
       "      <td>0</td>\n",
       "      <td>Sometimes</td>\n",
       "      <td>Public_Transportation</td>\n",
       "      <td>Obesity_Type_III</td>\n",
       "    </tr>\n",
       "    <tr>\n",
       "      <th>2107</th>\n",
       "      <td>Female</td>\n",
       "      <td>21</td>\n",
       "      <td>174</td>\n",
       "      <td>133</td>\n",
       "      <td>yes</td>\n",
       "      <td>yes</td>\n",
       "      <td>3</td>\n",
       "      <td>3</td>\n",
       "      <td>Sometimes</td>\n",
       "      <td>no</td>\n",
       "      <td>2</td>\n",
       "      <td>no</td>\n",
       "      <td>1</td>\n",
       "      <td>0</td>\n",
       "      <td>Sometimes</td>\n",
       "      <td>Public_Transportation</td>\n",
       "      <td>Obesity_Type_III</td>\n",
       "    </tr>\n",
       "    <tr>\n",
       "      <th>2108</th>\n",
       "      <td>Female</td>\n",
       "      <td>22</td>\n",
       "      <td>175</td>\n",
       "      <td>133</td>\n",
       "      <td>yes</td>\n",
       "      <td>yes</td>\n",
       "      <td>3</td>\n",
       "      <td>3</td>\n",
       "      <td>Sometimes</td>\n",
       "      <td>no</td>\n",
       "      <td>2</td>\n",
       "      <td>no</td>\n",
       "      <td>1</td>\n",
       "      <td>0</td>\n",
       "      <td>Sometimes</td>\n",
       "      <td>Public_Transportation</td>\n",
       "      <td>Obesity_Type_III</td>\n",
       "    </tr>\n",
       "    <tr>\n",
       "      <th>2109</th>\n",
       "      <td>Female</td>\n",
       "      <td>24</td>\n",
       "      <td>173</td>\n",
       "      <td>133</td>\n",
       "      <td>yes</td>\n",
       "      <td>yes</td>\n",
       "      <td>3</td>\n",
       "      <td>3</td>\n",
       "      <td>Sometimes</td>\n",
       "      <td>no</td>\n",
       "      <td>2</td>\n",
       "      <td>no</td>\n",
       "      <td>1</td>\n",
       "      <td>0</td>\n",
       "      <td>Sometimes</td>\n",
       "      <td>Public_Transportation</td>\n",
       "      <td>Obesity_Type_III</td>\n",
       "    </tr>\n",
       "    <tr>\n",
       "      <th>2110</th>\n",
       "      <td>Female</td>\n",
       "      <td>23</td>\n",
       "      <td>173</td>\n",
       "      <td>133</td>\n",
       "      <td>yes</td>\n",
       "      <td>yes</td>\n",
       "      <td>3</td>\n",
       "      <td>3</td>\n",
       "      <td>Sometimes</td>\n",
       "      <td>no</td>\n",
       "      <td>2</td>\n",
       "      <td>no</td>\n",
       "      <td>1</td>\n",
       "      <td>0</td>\n",
       "      <td>Sometimes</td>\n",
       "      <td>Public_Transportation</td>\n",
       "      <td>Obesity_Type_III</td>\n",
       "    </tr>\n",
       "  </tbody>\n",
       "</table>\n",
       "<p>2111 rows × 17 columns</p>\n",
       "</div>"
      ],
      "text/plain": [
       "      Gender  Age  Height  Weight family_history_with_overweight FAVC  FCVC  \\\n",
       "0     Female   21     162      64                            yes   no     2   \n",
       "1     Female   21     152      56                            yes   no     3   \n",
       "2       Male   23     180      77                            yes   no     2   \n",
       "3       Male   27     180      87                             no   no     3   \n",
       "4       Male   22     178      89                             no   no     2   \n",
       "...      ...  ...     ...     ...                            ...  ...   ...   \n",
       "2106  Female   20     171     131                            yes  yes     3   \n",
       "2107  Female   21     174     133                            yes  yes     3   \n",
       "2108  Female   22     175     133                            yes  yes     3   \n",
       "2109  Female   24     173     133                            yes  yes     3   \n",
       "2110  Female   23     173     133                            yes  yes     3   \n",
       "\n",
       "      NCP       CAEC SMOKE  CH2O  SCC  FAF  TUE        CALC  \\\n",
       "0       3  Sometimes    no     2   no    0    1          no   \n",
       "1       3  Sometimes   yes     3  yes    3    0   Sometimes   \n",
       "2       3  Sometimes    no     2   no    2    1  Frequently   \n",
       "3       3  Sometimes    no     2   no    2    0  Frequently   \n",
       "4       1  Sometimes    no     2   no    0    0   Sometimes   \n",
       "...   ...        ...   ...   ...  ...  ...  ...         ...   \n",
       "2106    3  Sometimes    no     1   no    1    0   Sometimes   \n",
       "2107    3  Sometimes    no     2   no    1    0   Sometimes   \n",
       "2108    3  Sometimes    no     2   no    1    0   Sometimes   \n",
       "2109    3  Sometimes    no     2   no    1    0   Sometimes   \n",
       "2110    3  Sometimes    no     2   no    1    0   Sometimes   \n",
       "\n",
       "                     MTRANS           NObeyesdad  \n",
       "0     Public_Transportation        Normal_Weight  \n",
       "1     Public_Transportation        Normal_Weight  \n",
       "2     Public_Transportation        Normal_Weight  \n",
       "3                   Walking   Overweight_Level_I  \n",
       "4     Public_Transportation  Overweight_Level_II  \n",
       "...                     ...                  ...  \n",
       "2106  Public_Transportation     Obesity_Type_III  \n",
       "2107  Public_Transportation     Obesity_Type_III  \n",
       "2108  Public_Transportation     Obesity_Type_III  \n",
       "2109  Public_Transportation     Obesity_Type_III  \n",
       "2110  Public_Transportation     Obesity_Type_III  \n",
       "\n",
       "[2111 rows x 17 columns]"
      ]
     },
     "execution_count": 2,
     "metadata": {},
     "output_type": "execute_result"
    }
   ],
   "source": [
    "data = pd.read_csv('tendency_to_obesity.csv', converters = {\n",
    "    'Age': lambda x: int(float(x)),\n",
    "    'Height': lambda x: int(float(x) * 100),\n",
    "    'Weight': lambda x: int(float(x)),\n",
    "    'FCVC': lambda x: int(float(x)),\n",
    "    'NCP': lambda x: int(float(x)),\n",
    "    'CH2O': lambda x: int(float(x)),\n",
    "    'FAF': lambda x: int(float(x)),\n",
    "    'TUE': lambda x: int(float(x))\n",
    "})\n",
    "data"
   ]
  },
  {
   "cell_type": "code",
   "execution_count": 3,
   "metadata": {},
   "outputs": [],
   "source": [
    "data.replace({ \n",
    "    'yes': 1, \n",
    "    'no': 0, \n",
    "    'Male': 1, \n",
    "    'Female': 0,\n",
    "    'Sometimes': 1,\n",
    "    'Frequently': 2,\n",
    "    'Always': 3,\n",
    "    'Automobile': 0,\n",
    "    'Public_Transportation': 2,\n",
    "    'Motorbike': 4,\n",
    "    'Bike': 20,\n",
    "    'Walking': 40\n",
    "}, inplace=True)"
   ]
  },
  {
   "cell_type": "code",
   "execution_count": 4,
   "metadata": {},
   "outputs": [
    {
     "name": "stdout",
     "output_type": "stream",
     "text": [
      "<class 'pandas.core.frame.DataFrame'>\n",
      "RangeIndex: 2111 entries, 0 to 2110\n",
      "Data columns (total 17 columns):\n",
      " #   Column                          Non-Null Count  Dtype   \n",
      "---  ------                          --------------  -----   \n",
      " 0   Gender                          2111 non-null   int32   \n",
      " 1   Age                             2111 non-null   int64   \n",
      " 2   Height                          2111 non-null   int64   \n",
      " 3   Weight                          2111 non-null   int64   \n",
      " 4   family_history_with_overweight  2111 non-null   int32   \n",
      " 5   FAVC                            2111 non-null   int32   \n",
      " 6   FCVC                            2111 non-null   int64   \n",
      " 7   NCP                             2111 non-null   int64   \n",
      " 8   CAEC                            2111 non-null   int32   \n",
      " 9   SMOKE                           2111 non-null   int32   \n",
      " 10  CH2O                            2111 non-null   int64   \n",
      " 11  SCC                             2111 non-null   int32   \n",
      " 12  FAF                             2111 non-null   int64   \n",
      " 13  TUE                             2111 non-null   int64   \n",
      " 14  CALC                            2111 non-null   int32   \n",
      " 15  MTRANS                          2111 non-null   int32   \n",
      " 16  NObeyesdad                      2111 non-null   category\n",
      "dtypes: category(1), int32(8), int64(8)\n",
      "memory usage: 200.5 KB\n"
     ]
    }
   ],
   "source": [
    "data['Gender'] = data['Gender'].astype('int')\n",
    "data['family_history_with_overweight'] = data['family_history_with_overweight'].astype('int')\n",
    "data['FAVC'] = data['FAVC'].astype('int')\n",
    "data['CAEC'] = data['CAEC'].astype('int')\n",
    "data['SMOKE'] = data['SMOKE'].astype('int')\n",
    "data['SCC'] = data['SCC'].astype('int')\n",
    "data['CALC'] = data['CALC'].astype('int')\n",
    "data['MTRANS'] = data['MTRANS'].astype('int')\n",
    "data['NObeyesdad'] = data['NObeyesdad'].astype('category')\n",
    "data.info()"
   ]
  },
  {
   "cell_type": "code",
   "execution_count": 5,
   "metadata": {},
   "outputs": [],
   "source": [
    "#X1 = data[['Gender', 'Age', 'Height', 'Weight']]\n",
    "y1 = data[['NObeyesdad']]\n",
    "X1 = data.drop(['NObeyesdad'], axis=1)\n",
    "#y1.replace({\n",
    "#    'Overweight_Level_I': 'ow', \n",
    "#    'Overweight_Level_II': 'ow', \n",
    "#    'Obesity_Type_I': 'ow', \n",
    "#    'Obesity_Type_II': 'ow', \n",
    "#    'Obesity_Type_III': 'ow'\n",
    "#}, inplace=True)"
   ]
  },
  {
   "cell_type": "code",
   "execution_count": 6,
   "metadata": {},
   "outputs": [],
   "source": [
    "#sns.pairplot(pd.concat([X1, y1], axis=1), hue='NObeyesdad', diag_kind=\"kde\", palette=\"colorblind\");"
   ]
  },
  {
   "cell_type": "code",
   "execution_count": 7,
   "metadata": {},
   "outputs": [],
   "source": [
    "from sklearn.model_selection import train_test_split\n",
    "from sklearn.metrics import classification_report\n",
    "from sklearn.model_selection import GridSearchCV"
   ]
  },
  {
   "cell_type": "code",
   "execution_count": 8,
   "metadata": {},
   "outputs": [],
   "source": [
    "from sklearn.tree import DecisionTreeClassifier"
   ]
  },
  {
   "cell_type": "code",
   "execution_count": 9,
   "metadata": {},
   "outputs": [],
   "source": [
    "X1_train, X1_test, y1_train, y1_test = train_test_split(X1, y1, test_size=0.2, random_state=42)"
   ]
  },
  {
   "cell_type": "code",
   "execution_count": 10,
   "metadata": {},
   "outputs": [],
   "source": [
    "from sklearn.linear_model import LogisticRegression"
   ]
  },
  {
   "cell_type": "markdown",
   "metadata": {},
   "source": [
    "## Лучшие параметры находим так:"
   ]
  },
  {
   "cell_type": "code",
   "execution_count": 11,
   "metadata": {},
   "outputs": [
    {
     "name": "stdout",
     "output_type": "stream",
     "text": [
      "                     precision    recall  f1-score   support\n",
      "\n",
      "Insufficient_Weight       0.97      1.00      0.98        56\n",
      "      Normal_Weight       0.98      0.95      0.97        62\n",
      "     Obesity_Type_I       0.99      0.99      0.99        78\n",
      "    Obesity_Type_II       0.98      1.00      0.99        58\n",
      "   Obesity_Type_III       1.00      1.00      1.00        63\n",
      " Overweight_Level_I       0.96      0.93      0.95        56\n",
      "Overweight_Level_II       0.94      0.96      0.95        50\n",
      "\n",
      "           accuracy                           0.98       423\n",
      "          macro avg       0.97      0.98      0.97       423\n",
      "       weighted avg       0.98      0.98      0.98       423\n",
      "\n"
     ]
    }
   ],
   "source": [
    "gs1 = GridSearchCV(LogisticRegression(),\n",
    "                    scoring='f1_weighted',\n",
    "                    cv=3,\n",
    "                  param_grid = {\n",
    "                      'C': [0.1, 1],\n",
    "                      'solver': ['newton-cg'],\n",
    "                      'multi_class': ['multinomial']\n",
    "                  })\n",
    "gs1.fit(X1_train, y1_train)\n",
    "print(classification_report(y1_test, gs1.predict(X1_test)))"
   ]
  },
  {
   "cell_type": "code",
   "execution_count": 12,
   "metadata": {},
   "outputs": [
    {
     "data": {
      "text/plain": [
       "{'C': 1, 'multi_class': 'multinomial', 'solver': 'newton-cg'}"
      ]
     },
     "execution_count": 12,
     "metadata": {},
     "output_type": "execute_result"
    }
   ],
   "source": [
    "gs1.best_params_"
   ]
  },
  {
   "cell_type": "markdown",
   "metadata": {},
   "source": [
    "## Но, не понятно, почему применив StandardScaler результат ухудшается..."
   ]
  },
  {
   "cell_type": "code",
   "execution_count": 13,
   "metadata": {},
   "outputs": [],
   "source": [
    "from sklearn.preprocessing import StandardScaler"
   ]
  },
  {
   "cell_type": "code",
   "execution_count": 14,
   "metadata": {},
   "outputs": [],
   "source": [
    "sc = StandardScaler()\n",
    "for c in X1.columns:\n",
    "    X1[c] = sc.fit_transform(X1[[c]])"
   ]
  },
  {
   "cell_type": "code",
   "execution_count": 15,
   "metadata": {},
   "outputs": [],
   "source": [
    "X2_train, X2_test, y2_train, y2_test = train_test_split(X1, y1, test_size=0.2, random_state=42)"
   ]
  },
  {
   "cell_type": "code",
   "execution_count": 16,
   "metadata": {},
   "outputs": [
    {
     "name": "stdout",
     "output_type": "stream",
     "text": [
      "                     precision    recall  f1-score   support\n",
      "\n",
      "Insufficient_Weight       0.85      1.00      0.92        56\n",
      "      Normal_Weight       0.91      0.66      0.77        62\n",
      "     Obesity_Type_I       0.96      0.92      0.94        78\n",
      "    Obesity_Type_II       0.93      0.98      0.96        58\n",
      "   Obesity_Type_III       1.00      1.00      1.00        63\n",
      " Overweight_Level_I       0.78      0.80      0.79        56\n",
      "Overweight_Level_II       0.76      0.84      0.80        50\n",
      "\n",
      "           accuracy                           0.89       423\n",
      "          macro avg       0.88      0.89      0.88       423\n",
      "       weighted avg       0.89      0.89      0.89       423\n",
      "\n"
     ]
    }
   ],
   "source": [
    "gs2 = GridSearchCV(LogisticRegression(),\n",
    "                    scoring='f1_weighted',\n",
    "                    cv=3,\n",
    "                  param_grid = {\n",
    "                      'C': [0.1, 1],\n",
    "                      'solver': ['newton-cg'],\n",
    "                      'multi_class': ['multinomial']\n",
    "                  })\n",
    "gs2.fit(X2_train, y2_train)\n",
    "print(classification_report(y2_test, gs2.predict(X2_test)))"
   ]
  },
  {
   "cell_type": "markdown",
   "metadata": {},
   "source": [
    "## И еще не понятно, почему если добавить еще один C gridsearch найдет хуже результат, но будет считать его лучшим?"
   ]
  },
  {
   "cell_type": "code",
   "execution_count": 17,
   "metadata": {},
   "outputs": [
    {
     "name": "stdout",
     "output_type": "stream",
     "text": [
      "                     precision    recall  f1-score   support\n",
      "\n",
      "Insufficient_Weight       0.97      1.00      0.98        56\n",
      "      Normal_Weight       0.98      0.94      0.96        62\n",
      "     Obesity_Type_I       0.99      0.99      0.99        78\n",
      "    Obesity_Type_II       0.98      1.00      0.99        58\n",
      "   Obesity_Type_III       1.00      1.00      1.00        63\n",
      " Overweight_Level_I       0.94      0.91      0.93        56\n",
      "Overweight_Level_II       0.92      0.96      0.94        50\n",
      "\n",
      "           accuracy                           0.97       423\n",
      "          macro avg       0.97      0.97      0.97       423\n",
      "       weighted avg       0.97      0.97      0.97       423\n",
      "\n"
     ]
    }
   ],
   "source": [
    "gs1 = GridSearchCV(LogisticRegression(),\n",
    "                    scoring='f1_weighted',\n",
    "                    cv=3,\n",
    "                  param_grid = {\n",
    "                      'C': [0.1, 1, 2],\n",
    "                      'solver': ['newton-cg'],\n",
    "                      'multi_class': ['multinomial']\n",
    "                  })\n",
    "gs1.fit(X1_train, y1_train)\n",
    "print(classification_report(y1_test, gs1.predict(X1_test)))"
   ]
  },
  {
   "cell_type": "code",
   "execution_count": 18,
   "metadata": {},
   "outputs": [
    {
     "data": {
      "text/plain": [
       "{'C': 2, 'multi_class': 'multinomial', 'solver': 'newton-cg'}"
      ]
     },
     "execution_count": 18,
     "metadata": {},
     "output_type": "execute_result"
    }
   ],
   "source": [
    "gs1.best_params_"
   ]
  },
  {
   "cell_type": "code",
   "execution_count": null,
   "metadata": {},
   "outputs": [],
   "source": []
  }
 ],
 "metadata": {
  "kernelspec": {
   "display_name": "Python 3",
   "language": "python",
   "name": "python3"
  },
  "language_info": {
   "codemirror_mode": {
    "name": "ipython",
    "version": 3
   },
   "file_extension": ".py",
   "mimetype": "text/x-python",
   "name": "python",
   "nbconvert_exporter": "python",
   "pygments_lexer": "ipython3",
   "version": "3.8.5"
  }
 },
 "nbformat": 4,
 "nbformat_minor": 4
}
