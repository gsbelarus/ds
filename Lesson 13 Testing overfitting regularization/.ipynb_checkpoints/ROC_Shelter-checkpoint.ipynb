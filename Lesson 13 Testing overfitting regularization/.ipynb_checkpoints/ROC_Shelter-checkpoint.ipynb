{
 "cells": [
  {
   "cell_type": "markdown",
   "metadata": {},
   "source": [
    "# Shelter Animal Outcomes"
   ]
  },
  {
   "cell_type": "markdown",
   "metadata": {},
   "source": [
    "**Дано:** данные о кошках и собаках, поступивших в приют\n",
    "\n",
    "**Найти:** что с ними станет? Возьмут в приют / вернётся хозяин / ..."
   ]
  },
  {
   "cell_type": "code",
   "execution_count": 1,
   "metadata": {},
   "outputs": [],
   "source": [
    "import numpy as np\n",
    "import pandas as pd"
   ]
  },
  {
   "cell_type": "code",
   "execution_count": 2,
   "metadata": {},
   "outputs": [],
   "source": [
    "from matplotlib import pyplot as plt\n",
    "%matplotlib inline\n",
    "import seaborn as sns\n",
    "\n",
    "# игнорировать предупреждения\n",
    "import warnings\n",
    "warnings.filterwarnings(\"ignore\")"
   ]
  },
  {
   "cell_type": "markdown",
   "metadata": {},
   "source": [
    "#### Загружаем датасет"
   ]
  },
  {
   "cell_type": "code",
   "execution_count": 3,
   "metadata": {},
   "outputs": [],
   "source": [
    "data = pd.read_csv('Shelter.csv')"
   ]
  },
  {
   "cell_type": "markdown",
   "metadata": {},
   "source": [
    "и смотрим на это"
   ]
  },
  {
   "cell_type": "code",
   "execution_count": 4,
   "metadata": {},
   "outputs": [
    {
     "data": {
      "text/html": [
       "<div>\n",
       "<style scoped>\n",
       "    .dataframe tbody tr th:only-of-type {\n",
       "        vertical-align: middle;\n",
       "    }\n",
       "\n",
       "    .dataframe tbody tr th {\n",
       "        vertical-align: top;\n",
       "    }\n",
       "\n",
       "    .dataframe thead th {\n",
       "        text-align: right;\n",
       "    }\n",
       "</style>\n",
       "<table border=\"1\" class=\"dataframe\">\n",
       "  <thead>\n",
       "    <tr style=\"text-align: right;\">\n",
       "      <th></th>\n",
       "      <th>AnimalID</th>\n",
       "      <th>Name</th>\n",
       "      <th>DateTime</th>\n",
       "      <th>OutcomeType</th>\n",
       "      <th>OutcomeSubtype</th>\n",
       "      <th>AnimalType</th>\n",
       "      <th>SexuponOutcome</th>\n",
       "      <th>AgeuponOutcome</th>\n",
       "      <th>Breed</th>\n",
       "      <th>Color</th>\n",
       "    </tr>\n",
       "  </thead>\n",
       "  <tbody>\n",
       "    <tr>\n",
       "      <th>0</th>\n",
       "      <td>A671945</td>\n",
       "      <td>Hambone</td>\n",
       "      <td>2014-02-12 18:22:00</td>\n",
       "      <td>Return_to_owner</td>\n",
       "      <td>NaN</td>\n",
       "      <td>Dog</td>\n",
       "      <td>Neutered Male</td>\n",
       "      <td>1 year</td>\n",
       "      <td>Shetland Sheepdog Mix</td>\n",
       "      <td>Brown/White</td>\n",
       "    </tr>\n",
       "    <tr>\n",
       "      <th>1</th>\n",
       "      <td>A656520</td>\n",
       "      <td>Emily</td>\n",
       "      <td>2013-10-13 12:44:00</td>\n",
       "      <td>Euthanasia</td>\n",
       "      <td>Suffering</td>\n",
       "      <td>Cat</td>\n",
       "      <td>Spayed Female</td>\n",
       "      <td>1 year</td>\n",
       "      <td>Domestic Shorthair Mix</td>\n",
       "      <td>Cream Tabby</td>\n",
       "    </tr>\n",
       "    <tr>\n",
       "      <th>2</th>\n",
       "      <td>A686464</td>\n",
       "      <td>Pearce</td>\n",
       "      <td>2015-01-31 12:28:00</td>\n",
       "      <td>Adoption</td>\n",
       "      <td>Foster</td>\n",
       "      <td>Dog</td>\n",
       "      <td>Neutered Male</td>\n",
       "      <td>2 years</td>\n",
       "      <td>Pit Bull Mix</td>\n",
       "      <td>Blue/White</td>\n",
       "    </tr>\n",
       "    <tr>\n",
       "      <th>3</th>\n",
       "      <td>A683430</td>\n",
       "      <td>NaN</td>\n",
       "      <td>2014-07-11 19:09:00</td>\n",
       "      <td>Transfer</td>\n",
       "      <td>Partner</td>\n",
       "      <td>Cat</td>\n",
       "      <td>Intact Male</td>\n",
       "      <td>3 weeks</td>\n",
       "      <td>Domestic Shorthair Mix</td>\n",
       "      <td>Blue Cream</td>\n",
       "    </tr>\n",
       "    <tr>\n",
       "      <th>4</th>\n",
       "      <td>A667013</td>\n",
       "      <td>NaN</td>\n",
       "      <td>2013-11-15 12:52:00</td>\n",
       "      <td>Transfer</td>\n",
       "      <td>Partner</td>\n",
       "      <td>Dog</td>\n",
       "      <td>Neutered Male</td>\n",
       "      <td>2 years</td>\n",
       "      <td>Lhasa Apso/Miniature Poodle</td>\n",
       "      <td>Tan</td>\n",
       "    </tr>\n",
       "  </tbody>\n",
       "</table>\n",
       "</div>"
      ],
      "text/plain": [
       "  AnimalID     Name             DateTime      OutcomeType OutcomeSubtype  \\\n",
       "0  A671945  Hambone  2014-02-12 18:22:00  Return_to_owner            NaN   \n",
       "1  A656520    Emily  2013-10-13 12:44:00       Euthanasia      Suffering   \n",
       "2  A686464   Pearce  2015-01-31 12:28:00         Adoption         Foster   \n",
       "3  A683430      NaN  2014-07-11 19:09:00         Transfer        Partner   \n",
       "4  A667013      NaN  2013-11-15 12:52:00         Transfer        Partner   \n",
       "\n",
       "  AnimalType SexuponOutcome AgeuponOutcome                        Breed  \\\n",
       "0        Dog  Neutered Male         1 year        Shetland Sheepdog Mix   \n",
       "1        Cat  Spayed Female         1 year       Domestic Shorthair Mix   \n",
       "2        Dog  Neutered Male        2 years                 Pit Bull Mix   \n",
       "3        Cat    Intact Male        3 weeks       Domestic Shorthair Mix   \n",
       "4        Dog  Neutered Male        2 years  Lhasa Apso/Miniature Poodle   \n",
       "\n",
       "         Color  \n",
       "0  Brown/White  \n",
       "1  Cream Tabby  \n",
       "2   Blue/White  \n",
       "3   Blue Cream  \n",
       "4          Tan  "
      ]
     },
     "execution_count": 4,
     "metadata": {},
     "output_type": "execute_result"
    }
   ],
   "source": [
    "data.head()"
   ]
  },
  {
   "cell_type": "markdown",
   "metadata": {},
   "source": [
    "## все фичи надо обрабатывать"
   ]
  },
  {
   "cell_type": "code",
   "execution_count": 5,
   "metadata": {},
   "outputs": [],
   "source": [
    "X = data.drop(['AnimalID', 'OutcomeType', 'OutcomeSubtype'], axis=1)\n",
    "X.index = range(len(X))\n",
    "X.columns = X.columns.str.lower()\n",
    "data_columns = X.columns"
   ]
  },
  {
   "cell_type": "code",
   "execution_count": 6,
   "metadata": {},
   "outputs": [
    {
     "data": {
      "text/html": [
       "<div>\n",
       "<style scoped>\n",
       "    .dataframe tbody tr th:only-of-type {\n",
       "        vertical-align: middle;\n",
       "    }\n",
       "\n",
       "    .dataframe tbody tr th {\n",
       "        vertical-align: top;\n",
       "    }\n",
       "\n",
       "    .dataframe thead th {\n",
       "        text-align: right;\n",
       "    }\n",
       "</style>\n",
       "<table border=\"1\" class=\"dataframe\">\n",
       "  <thead>\n",
       "    <tr style=\"text-align: right;\">\n",
       "      <th></th>\n",
       "      <th>name</th>\n",
       "      <th>datetime</th>\n",
       "      <th>animaltype</th>\n",
       "      <th>sexuponoutcome</th>\n",
       "      <th>ageuponoutcome</th>\n",
       "      <th>breed</th>\n",
       "      <th>color</th>\n",
       "    </tr>\n",
       "  </thead>\n",
       "  <tbody>\n",
       "    <tr>\n",
       "      <th>0</th>\n",
       "      <td>Hambone</td>\n",
       "      <td>2014-02-12 18:22:00</td>\n",
       "      <td>Dog</td>\n",
       "      <td>Neutered Male</td>\n",
       "      <td>1 year</td>\n",
       "      <td>Shetland Sheepdog Mix</td>\n",
       "      <td>Brown/White</td>\n",
       "    </tr>\n",
       "    <tr>\n",
       "      <th>1</th>\n",
       "      <td>Emily</td>\n",
       "      <td>2013-10-13 12:44:00</td>\n",
       "      <td>Cat</td>\n",
       "      <td>Spayed Female</td>\n",
       "      <td>1 year</td>\n",
       "      <td>Domestic Shorthair Mix</td>\n",
       "      <td>Cream Tabby</td>\n",
       "    </tr>\n",
       "    <tr>\n",
       "      <th>2</th>\n",
       "      <td>Pearce</td>\n",
       "      <td>2015-01-31 12:28:00</td>\n",
       "      <td>Dog</td>\n",
       "      <td>Neutered Male</td>\n",
       "      <td>2 years</td>\n",
       "      <td>Pit Bull Mix</td>\n",
       "      <td>Blue/White</td>\n",
       "    </tr>\n",
       "    <tr>\n",
       "      <th>3</th>\n",
       "      <td>NaN</td>\n",
       "      <td>2014-07-11 19:09:00</td>\n",
       "      <td>Cat</td>\n",
       "      <td>Intact Male</td>\n",
       "      <td>3 weeks</td>\n",
       "      <td>Domestic Shorthair Mix</td>\n",
       "      <td>Blue Cream</td>\n",
       "    </tr>\n",
       "    <tr>\n",
       "      <th>4</th>\n",
       "      <td>NaN</td>\n",
       "      <td>2013-11-15 12:52:00</td>\n",
       "      <td>Dog</td>\n",
       "      <td>Neutered Male</td>\n",
       "      <td>2 years</td>\n",
       "      <td>Lhasa Apso/Miniature Poodle</td>\n",
       "      <td>Tan</td>\n",
       "    </tr>\n",
       "  </tbody>\n",
       "</table>\n",
       "</div>"
      ],
      "text/plain": [
       "      name             datetime animaltype sexuponoutcome ageuponoutcome  \\\n",
       "0  Hambone  2014-02-12 18:22:00        Dog  Neutered Male         1 year   \n",
       "1    Emily  2013-10-13 12:44:00        Cat  Spayed Female         1 year   \n",
       "2   Pearce  2015-01-31 12:28:00        Dog  Neutered Male        2 years   \n",
       "3      NaN  2014-07-11 19:09:00        Cat    Intact Male        3 weeks   \n",
       "4      NaN  2013-11-15 12:52:00        Dog  Neutered Male        2 years   \n",
       "\n",
       "                         breed        color  \n",
       "0        Shetland Sheepdog Mix  Brown/White  \n",
       "1       Domestic Shorthair Mix  Cream Tabby  \n",
       "2                 Pit Bull Mix   Blue/White  \n",
       "3       Domestic Shorthair Mix   Blue Cream  \n",
       "4  Lhasa Apso/Miniature Poodle          Tan  "
      ]
     },
     "execution_count": 6,
     "metadata": {},
     "output_type": "execute_result"
    }
   ],
   "source": [
    "X.head()"
   ]
  },
  {
   "cell_type": "code",
   "execution_count": 8,
   "metadata": {
    "scrolled": true
   },
   "outputs": [
    {
     "data": {
      "text/plain": [
       "(26729, 7)"
      ]
     },
     "execution_count": 8,
     "metadata": {},
     "output_type": "execute_result"
    }
   ],
   "source": [
    "X.shape"
   ]
  },
  {
   "cell_type": "code",
   "execution_count": 9,
   "metadata": {},
   "outputs": [
    {
     "name": "stdout",
     "output_type": "stream",
     "text": [
      "<class 'pandas.core.frame.DataFrame'>\n",
      "RangeIndex: 26729 entries, 0 to 26728\n",
      "Data columns (total 7 columns):\n",
      " #   Column          Non-Null Count  Dtype \n",
      "---  ------          --------------  ----- \n",
      " 0   name            19038 non-null  object\n",
      " 1   datetime        26729 non-null  object\n",
      " 2   animaltype      26729 non-null  object\n",
      " 3   sexuponoutcome  26728 non-null  object\n",
      " 4   ageuponoutcome  26711 non-null  object\n",
      " 5   breed           26729 non-null  object\n",
      " 6   color           26729 non-null  object\n",
      "dtypes: object(7)\n",
      "memory usage: 1.4+ MB\n"
     ]
    }
   ],
   "source": [
    "X.info()"
   ]
  },
  {
   "cell_type": "code",
   "execution_count": null,
   "metadata": {},
   "outputs": [],
   "source": []
  },
  {
   "cell_type": "markdown",
   "metadata": {},
   "source": [
    "Также нам необходимо закодировать значения целевой переменной"
   ]
  },
  {
   "cell_type": "code",
   "execution_count": 10,
   "metadata": {},
   "outputs": [],
   "source": [
    "from sklearn.preprocessing import LabelEncoder"
   ]
  },
  {
   "cell_type": "code",
   "execution_count": 12,
   "metadata": {},
   "outputs": [],
   "source": [
    "le = LabelEncoder()\n",
    "y = le.fit_transform(data.OutcomeType)"
   ]
  },
  {
   "cell_type": "code",
   "execution_count": 13,
   "metadata": {},
   "outputs": [
    {
     "data": {
      "text/plain": [
       "array(['Neutered Male', 'Spayed Female', 'Intact Male', 'Intact Female',\n",
       "       'Unknown', nan], dtype=object)"
      ]
     },
     "execution_count": 13,
     "metadata": {},
     "output_type": "execute_result"
    }
   ],
   "source": [
    "data.SexuponOutcome.unique()"
   ]
  },
  {
   "cell_type": "code",
   "execution_count": 14,
   "metadata": {},
   "outputs": [
    {
     "data": {
      "text/plain": [
       "array([3, 2, 0, ..., 0, 4, 4])"
      ]
     },
     "execution_count": 14,
     "metadata": {},
     "output_type": "execute_result"
    }
   ],
   "source": [
    "y"
   ]
  },
  {
   "cell_type": "markdown",
   "metadata": {},
   "source": [
    "# Готовим фичи"
   ]
  },
  {
   "cell_type": "markdown",
   "metadata": {},
   "source": [
    "будем в конце датафрейма наращивать числовые фичи, не удаляя оригинальные: вдруг пригодится :))"
   ]
  },
  {
   "cell_type": "markdown",
   "metadata": {},
   "source": [
    "**имя** превращаем в:\n",
    "* наличие имени\n",
    "* длину имени\n",
    "* частоту имени"
   ]
  },
  {
   "cell_type": "code",
   "execution_count": 15,
   "metadata": {},
   "outputs": [],
   "source": [
    "# наличие имени\n",
    "X['has_name'] = X.name.isnull().astype(int)\n",
    "\n",
    "# длина имени\n",
    "X['name_len'] = X.name.str.len()\n",
    "X.name_len.fillna(X.name_len.median(), inplace=True)\n",
    "\n",
    "# количество слов в имени\n",
    "X['name_words_num'] = X.name.str.split().str.len()\n",
    "X.name_words_num.fillna(X.name_words_num.median(), inplace=True)\n",
    "\n",
    "# частота встречаемости имени\n",
    "names_freq = X.name.value_counts().to_dict()\n",
    "X['name_freq'] = X.name.apply(lambda x: names_freq.get(x))\n",
    "X.name_freq.fillna(X.name_freq.median(), inplace=True)"
   ]
  },
  {
   "cell_type": "markdown",
   "metadata": {},
   "source": [
    "#### Даты: переводим строки в даты"
   ]
  },
  {
   "cell_type": "code",
   "execution_count": 14,
   "metadata": {},
   "outputs": [
    {
     "data": {
      "image/png": "[encoded data removed]",
      "text/plain": [
       "<Figure size 432x288 with 1 Axes>"
      ]
     },
     "metadata": {
      "needs_background": "light"
     },
     "output_type": "display_data"
    }
   ],
   "source": [
    "X.datetime = pd.to_datetime(X.datetime)\n",
    "X.datetime.hist(xrot=90);"
   ]
  },
  {
   "cell_type": "code",
   "execution_count": 15,
   "metadata": {},
   "outputs": [],
   "source": [
    "X['year'] = X.datetime.apply(lambda x: x.year)\n",
    "X['month'] = X.datetime.apply(lambda x: x.month)\n",
    "X['day'] = X.datetime.apply(lambda x: x.day)\n",
    "X['hour'] = X.datetime.apply(lambda x: x.hour + x.minute/60)\n",
    "X['weekday'] = X.datetime.apply(lambda x: x.weekday())"
   ]
  },
  {
   "cell_type": "markdown",
   "metadata": {},
   "source": [
    "#### С видом животного проще"
   ]
  },
  {
   "cell_type": "code",
   "execution_count": 16,
   "metadata": {},
   "outputs": [
    {
     "data": {
      "text/plain": [
       "Dog    15595\n",
       "Cat    11134\n",
       "Name: animaltype, dtype: int64"
      ]
     },
     "execution_count": 16,
     "metadata": {},
     "output_type": "execute_result"
    }
   ],
   "source": [
    "X.animaltype.value_counts()"
   ]
  },
  {
   "cell_type": "code",
   "execution_count": 17,
   "metadata": {},
   "outputs": [],
   "source": [
    "X['is_dog'] = (X.animaltype=='Dog').astype(int)"
   ]
  },
  {
   "cell_type": "markdown",
   "metadata": {},
   "source": [
    "#### С полом сложнее. Делим на две фичи\n",
    "* Neutered, Spayed - стерилизованные\n",
    "* Intact - нетронутые"
   ]
  },
  {
   "cell_type": "code",
   "execution_count": 18,
   "metadata": {},
   "outputs": [
    {
     "data": {
      "text/plain": [
       "Neutered Male    9779\n",
       "Spayed Female    8820\n",
       "Intact Male      3525\n",
       "Intact Female    3511\n",
       "Unknown          1093\n",
       "Name: sexuponoutcome, dtype: int64"
      ]
     },
     "execution_count": 18,
     "metadata": {},
     "output_type": "execute_result"
    }
   ],
   "source": [
    "X.sexuponoutcome.value_counts()"
   ]
  },
  {
   "cell_type": "code",
   "execution_count": 19,
   "metadata": {},
   "outputs": [],
   "source": [
    "X.sexuponoutcome.fillna('Unknown', inplace=True)"
   ]
  },
  {
   "cell_type": "code",
   "execution_count": 20,
   "metadata": {},
   "outputs": [],
   "source": [
    "X['sterilization'] = X.sexuponoutcome.apply(lambda x: x.split()[0])\n",
    "X.sterilization = X.sterilization.replace({'Neutered': 'Sterilized', 'Spayed': 'Sterilized'})"
   ]
  },
  {
   "cell_type": "code",
   "execution_count": 21,
   "metadata": {},
   "outputs": [],
   "source": [
    "X['sex'] = X.sexuponoutcome.apply(lambda x: x.split()[-1])"
   ]
  },
  {
   "cell_type": "code",
   "execution_count": 22,
   "metadata": {},
   "outputs": [
    {
     "data": {
      "text/plain": [
       "array(['Male', 'Female', 'Unknown'], dtype=object)"
      ]
     },
     "execution_count": 22,
     "metadata": {},
     "output_type": "execute_result"
    }
   ],
   "source": [
    "X['sex'].unique()"
   ]
  },
  {
   "cell_type": "code",
   "execution_count": 23,
   "metadata": {},
   "outputs": [],
   "source": [
    "le_sterilization = LabelEncoder()\n",
    "le_sex = LabelEncoder()"
   ]
  },
  {
   "cell_type": "code",
   "execution_count": 24,
   "metadata": {},
   "outputs": [],
   "source": [
    "X.sterilization = le_sterilization.fit_transform(X.sterilization)\n",
    "X.sex = le_sex.fit_transform(X.sex)"
   ]
  },
  {
   "cell_type": "markdown",
   "metadata": {},
   "source": [
    "#### Приведем возраст к единому значению"
   ]
  },
  {
   "cell_type": "code",
   "execution_count": 25,
   "metadata": {},
   "outputs": [
    {
     "data": {
      "text/plain": [
       "1 year       3969\n",
       "2 years      3742\n",
       "2 months     3397\n",
       "3 years      1823\n",
       "1 month      1281\n",
       "3 months     1277\n",
       "4 years      1071\n",
       "5 years       992\n",
       "4 months      888\n",
       "6 years       670\n",
       "3 weeks       659\n",
       "5 months      652\n",
       "6 months      588\n",
       "8 years       536\n",
       "7 years       531\n",
       "2 weeks       529\n",
       "10 months     457\n",
       "10 years      446\n",
       "8 months      402\n",
       "4 weeks       334\n",
       "7 months      288\n",
       "9 years       288\n",
       "12 years      234\n",
       "9 months      224\n",
       "1 weeks       171\n",
       "11 months     166\n",
       "1 week        146\n",
       "13 years      143\n",
       "11 years      126\n",
       "3 days        109\n",
       "Name: ageuponoutcome, dtype: int64"
      ]
     },
     "execution_count": 25,
     "metadata": {},
     "output_type": "execute_result"
    }
   ],
   "source": [
    "X.ageuponoutcome.value_counts()[:30]"
   ]
  },
  {
   "cell_type": "code",
   "execution_count": 26,
   "metadata": {},
   "outputs": [
    {
     "data": {
      "text/plain": [
       "years     10874\n",
       "months     8339\n",
       "year       3969\n",
       "weeks      1704\n",
       "month      1281\n",
       "days        332\n",
       "week        146\n",
       "day          66\n",
       "Name: ageuponoutcome, dtype: int64"
      ]
     },
     "execution_count": 26,
     "metadata": {},
     "output_type": "execute_result"
    }
   ],
   "source": [
    "X.ageuponoutcome.str.split().str[1].value_counts()"
   ]
  },
  {
   "cell_type": "code",
   "execution_count": 27,
   "metadata": {},
   "outputs": [
    {
     "data": {
      "text/plain": [
       "year     14843\n",
       "month     9620\n",
       "week      1850\n",
       "day        398\n",
       "Name: ageuponoutcome, dtype: int64"
      ]
     },
     "execution_count": 27,
     "metadata": {},
     "output_type": "execute_result"
    }
   ],
   "source": [
    "X.ageuponoutcome.str.split().str[1].str.rstrip('s').value_counts()"
   ]
  },
  {
   "cell_type": "code",
   "execution_count": 28,
   "metadata": {},
   "outputs": [],
   "source": [
    "t_dig = X.ageuponoutcome.str.split().str[0].fillna(0).astype(int)\n",
    "t_int = X.ageuponoutcome.str.split().str[1].str.rstrip('s').replace({'year': 365, 'month': 365/12, 'week':7, 'day':1}).fillna(0)"
   ]
  },
  {
   "cell_type": "code",
   "execution_count": 29,
   "metadata": {},
   "outputs": [],
   "source": [
    "X[\"years\"] = t_dig*t_int/365"
   ]
  },
  {
   "cell_type": "markdown",
   "metadata": {},
   "source": [
    "порода достаточно разнообразна и содержит в себе также  поле \"Mix\" и короткошёрстность животного"
   ]
  },
  {
   "cell_type": "code",
   "execution_count": 30,
   "metadata": {},
   "outputs": [
    {
     "data": {
      "text/plain": [
       "Domestic Shorthair Mix       8810\n",
       "Pit Bull Mix                 1906\n",
       "Chihuahua Shorthair Mix      1766\n",
       "Labrador Retriever Mix       1363\n",
       "Domestic Medium Hair Mix      839\n",
       "German Shepherd Mix           575\n",
       "Domestic Longhair Mix         520\n",
       "Siamese Mix                   389\n",
       "Australian Cattle Dog Mix     367\n",
       "Dachshund Mix                 318\n",
       "Name: breed, dtype: int64"
      ]
     },
     "execution_count": 30,
     "metadata": {},
     "output_type": "execute_result"
    }
   ],
   "source": [
    "X.breed.value_counts()[:10]"
   ]
  },
  {
   "cell_type": "markdown",
   "metadata": {},
   "source": [
    "Поступим просто: соединим все описания в один большой текст и посчитаем в нём вхождение каждого слова. Флаги наличия самых популярных и включим как фичи"
   ]
  },
  {
   "cell_type": "code",
   "execution_count": 31,
   "metadata": {},
   "outputs": [],
   "source": [
    "from collections import Counter"
   ]
  },
  {
   "cell_type": "code",
   "execution_count": 32,
   "metadata": {
    "scrolled": true
   },
   "outputs": [
    {
     "data": {
      "text/plain": [
       "[('Mix', 22298),\n",
       " ('Shorthair', 11413),\n",
       " ('Domestic', 10403),\n",
       " ('/', 3068),\n",
       " ('Chihuahua', 2591),\n",
       " ('Retriever', 2460),\n",
       " ('Bull', 2445),\n",
       " ('Pit', 2395),\n",
       " ('Labrador', 2275),\n",
       " ('Terrier', 1673),\n",
       " ('Shepherd', 1398),\n",
       " ('Australian', 1049),\n",
       " ('German', 995),\n",
       " ('Hair', 908),\n",
       " ('Medium', 884),\n",
       " ('Miniature', 815),\n",
       " ('Longhair', 797),\n",
       " ('Dachshund', 788),\n",
       " ('Dog', 711),\n",
       " ('Cattle', 640)]"
      ]
     },
     "execution_count": 32,
     "metadata": {},
     "output_type": "execute_result"
    }
   ],
   "source": [
    "one_big_text = \" \".join(X.breed)\n",
    "words = one_big_text.replace('/',' / ').split()\n",
    "most_common = Counter(words).most_common()\n",
    "most_common[:20]"
   ]
  },
  {
   "cell_type": "markdown",
   "metadata": {},
   "source": [
    "Можно было бы просто вставить флаги вхождения первых, скажем, 4 слов. Но давайте посмотрим, а насколько они важны? Составим матрицу, состоящую только из вхождения первых N слов, обучим на них дерево и проверим важность фичей"
   ]
  },
  {
   "cell_type": "code",
   "execution_count": 33,
   "metadata": {},
   "outputs": [],
   "source": [
    "Xbreed = pd.DataFrame()\n",
    "for col, num in most_common[:10]:\n",
    "    Xbreed[col] = X.breed.str.contains(col).astype(int)"
   ]
  },
  {
   "cell_type": "code",
   "execution_count": 34,
   "metadata": {
    "scrolled": false
   },
   "outputs": [
    {
     "data": {
      "text/html": [
       "<div>\n",
       "<style scoped>\n",
       "    .dataframe tbody tr th:only-of-type {\n",
       "        vertical-align: middle;\n",
       "    }\n",
       "\n",
       "    .dataframe tbody tr th {\n",
       "        vertical-align: top;\n",
       "    }\n",
       "\n",
       "    .dataframe thead th {\n",
       "        text-align: right;\n",
       "    }\n",
       "</style>\n",
       "<table border=\"1\" class=\"dataframe\">\n",
       "  <thead>\n",
       "    <tr style=\"text-align: right;\">\n",
       "      <th></th>\n",
       "      <th>Mix</th>\n",
       "      <th>Shorthair</th>\n",
       "      <th>Domestic</th>\n",
       "      <th>/</th>\n",
       "      <th>Chihuahua</th>\n",
       "      <th>Retriever</th>\n",
       "      <th>Bull</th>\n",
       "      <th>Pit</th>\n",
       "      <th>Labrador</th>\n",
       "      <th>Terrier</th>\n",
       "    </tr>\n",
       "  </thead>\n",
       "  <tbody>\n",
       "    <tr>\n",
       "      <th>0</th>\n",
       "      <td>1</td>\n",
       "      <td>0</td>\n",
       "      <td>0</td>\n",
       "      <td>0</td>\n",
       "      <td>0</td>\n",
       "      <td>0</td>\n",
       "      <td>0</td>\n",
       "      <td>0</td>\n",
       "      <td>0</td>\n",
       "      <td>0</td>\n",
       "    </tr>\n",
       "    <tr>\n",
       "      <th>1</th>\n",
       "      <td>1</td>\n",
       "      <td>1</td>\n",
       "      <td>1</td>\n",
       "      <td>0</td>\n",
       "      <td>0</td>\n",
       "      <td>0</td>\n",
       "      <td>0</td>\n",
       "      <td>0</td>\n",
       "      <td>0</td>\n",
       "      <td>0</td>\n",
       "    </tr>\n",
       "    <tr>\n",
       "      <th>2</th>\n",
       "      <td>1</td>\n",
       "      <td>0</td>\n",
       "      <td>0</td>\n",
       "      <td>0</td>\n",
       "      <td>0</td>\n",
       "      <td>0</td>\n",
       "      <td>1</td>\n",
       "      <td>1</td>\n",
       "      <td>0</td>\n",
       "      <td>0</td>\n",
       "    </tr>\n",
       "    <tr>\n",
       "      <th>3</th>\n",
       "      <td>1</td>\n",
       "      <td>1</td>\n",
       "      <td>1</td>\n",
       "      <td>0</td>\n",
       "      <td>0</td>\n",
       "      <td>0</td>\n",
       "      <td>0</td>\n",
       "      <td>0</td>\n",
       "      <td>0</td>\n",
       "      <td>0</td>\n",
       "    </tr>\n",
       "    <tr>\n",
       "      <th>4</th>\n",
       "      <td>0</td>\n",
       "      <td>0</td>\n",
       "      <td>0</td>\n",
       "      <td>1</td>\n",
       "      <td>0</td>\n",
       "      <td>0</td>\n",
       "      <td>0</td>\n",
       "      <td>0</td>\n",
       "      <td>0</td>\n",
       "      <td>0</td>\n",
       "    </tr>\n",
       "    <tr>\n",
       "      <th>...</th>\n",
       "      <td>...</td>\n",
       "      <td>...</td>\n",
       "      <td>...</td>\n",
       "      <td>...</td>\n",
       "      <td>...</td>\n",
       "      <td>...</td>\n",
       "      <td>...</td>\n",
       "      <td>...</td>\n",
       "      <td>...</td>\n",
       "      <td>...</td>\n",
       "    </tr>\n",
       "    <tr>\n",
       "      <th>26724</th>\n",
       "      <td>1</td>\n",
       "      <td>1</td>\n",
       "      <td>1</td>\n",
       "      <td>0</td>\n",
       "      <td>0</td>\n",
       "      <td>0</td>\n",
       "      <td>0</td>\n",
       "      <td>0</td>\n",
       "      <td>0</td>\n",
       "      <td>0</td>\n",
       "    </tr>\n",
       "    <tr>\n",
       "      <th>26725</th>\n",
       "      <td>1</td>\n",
       "      <td>1</td>\n",
       "      <td>1</td>\n",
       "      <td>0</td>\n",
       "      <td>0</td>\n",
       "      <td>0</td>\n",
       "      <td>0</td>\n",
       "      <td>0</td>\n",
       "      <td>0</td>\n",
       "      <td>0</td>\n",
       "    </tr>\n",
       "    <tr>\n",
       "      <th>26726</th>\n",
       "      <td>1</td>\n",
       "      <td>0</td>\n",
       "      <td>0</td>\n",
       "      <td>0</td>\n",
       "      <td>0</td>\n",
       "      <td>0</td>\n",
       "      <td>1</td>\n",
       "      <td>0</td>\n",
       "      <td>0</td>\n",
       "      <td>0</td>\n",
       "    </tr>\n",
       "    <tr>\n",
       "      <th>26727</th>\n",
       "      <td>1</td>\n",
       "      <td>1</td>\n",
       "      <td>1</td>\n",
       "      <td>0</td>\n",
       "      <td>0</td>\n",
       "      <td>0</td>\n",
       "      <td>0</td>\n",
       "      <td>0</td>\n",
       "      <td>0</td>\n",
       "      <td>0</td>\n",
       "    </tr>\n",
       "    <tr>\n",
       "      <th>26728</th>\n",
       "      <td>1</td>\n",
       "      <td>1</td>\n",
       "      <td>1</td>\n",
       "      <td>0</td>\n",
       "      <td>0</td>\n",
       "      <td>0</td>\n",
       "      <td>0</td>\n",
       "      <td>0</td>\n",
       "      <td>0</td>\n",
       "      <td>0</td>\n",
       "    </tr>\n",
       "  </tbody>\n",
       "</table>\n",
       "<p>26729 rows × 10 columns</p>\n",
       "</div>"
      ],
      "text/plain": [
       "       Mix  Shorthair  Domestic  /  Chihuahua  Retriever  Bull  Pit  Labrador  \\\n",
       "0        1          0         0  0          0          0     0    0         0   \n",
       "1        1          1         1  0          0          0     0    0         0   \n",
       "2        1          0         0  0          0          0     1    1         0   \n",
       "3        1          1         1  0          0          0     0    0         0   \n",
       "4        0          0         0  1          0          0     0    0         0   \n",
       "...    ...        ...       ... ..        ...        ...   ...  ...       ...   \n",
       "26724    1          1         1  0          0          0     0    0         0   \n",
       "26725    1          1         1  0          0          0     0    0         0   \n",
       "26726    1          0         0  0          0          0     1    0         0   \n",
       "26727    1          1         1  0          0          0     0    0         0   \n",
       "26728    1          1         1  0          0          0     0    0         0   \n",
       "\n",
       "       Terrier  \n",
       "0            0  \n",
       "1            0  \n",
       "2            0  \n",
       "3            0  \n",
       "4            0  \n",
       "...        ...  \n",
       "26724        0  \n",
       "26725        0  \n",
       "26726        0  \n",
       "26727        0  \n",
       "26728        0  \n",
       "\n",
       "[26729 rows x 10 columns]"
      ]
     },
     "execution_count": 34,
     "metadata": {},
     "output_type": "execute_result"
    }
   ],
   "source": [
    "Xbreed"
   ]
  },
  {
   "cell_type": "code",
   "execution_count": 35,
   "metadata": {},
   "outputs": [],
   "source": [
    "from sklearn.tree import DecisionTreeClassifier"
   ]
  },
  {
   "cell_type": "code",
   "execution_count": 36,
   "metadata": {},
   "outputs": [],
   "source": [
    "clf = DecisionTreeClassifier(max_depth=4)"
   ]
  },
  {
   "cell_type": "code",
   "execution_count": 37,
   "metadata": {},
   "outputs": [
    {
     "data": {
      "text/plain": [
       "DecisionTreeClassifier(max_depth=4)"
      ]
     },
     "execution_count": 37,
     "metadata": {},
     "output_type": "execute_result"
    }
   ],
   "source": [
    "clf.fit(Xbreed, data.OutcomeType)"
   ]
  },
  {
   "cell_type": "code",
   "execution_count": 38,
   "metadata": {},
   "outputs": [
    {
     "data": {
      "text/plain": [
       "array([0.03160924, 0.01721122, 0.82691139, 0.0446535 , 0.00404402,\n",
       "       0.        , 0.0701799 , 0.00539074, 0.        , 0.        ])"
      ]
     },
     "execution_count": 38,
     "metadata": {},
     "output_type": "execute_result"
    }
   ],
   "source": [
    "clf.feature_importances_"
   ]
  },
  {
   "cell_type": "code",
   "execution_count": 39,
   "metadata": {},
   "outputs": [
    {
     "data": {
      "text/plain": [
       "Index(['Mix', 'Shorthair', 'Domestic', '/', 'Chihuahua', 'Retriever', 'Bull',\n",
       "       'Pit', 'Labrador', 'Terrier'],\n",
       "      dtype='object')"
      ]
     },
     "execution_count": 39,
     "metadata": {},
     "output_type": "execute_result"
    }
   ],
   "source": [
    "Xbreed.columns"
   ]
  },
  {
   "cell_type": "markdown",
   "metadata": {},
   "source": [
    "В принципе, оказалось, что влияет по большей части только **Domestic**. Но включим сюда на всякий случай ещё один признак"
   ]
  },
  {
   "cell_type": "code",
   "execution_count": 40,
   "metadata": {},
   "outputs": [],
   "source": [
    "X['is_domestic'] = X.breed.str.contains('Domestic').astype(int)\n",
    "X['is_Bull'] = X.breed.str.contains('Bull').astype(int)"
   ]
  },
  {
   "cell_type": "markdown",
   "metadata": {},
   "source": [
    "#### Остался цвет. Выглядит похоже на проблему породы, повторим те же операции"
   ]
  },
  {
   "cell_type": "markdown",
   "metadata": {},
   "source": [
    "Здесь важность менее сосредоточена, возьмём первые 5 фичей. Самая важная, Tabby - это полосатость"
   ]
  },
  {
   "cell_type": "code",
   "execution_count": 41,
   "metadata": {},
   "outputs": [
    {
     "data": {
      "text/plain": [
       "Black/White                2824\n",
       "Black                      2292\n",
       "Brown Tabby                1635\n",
       "Brown Tabby/White           940\n",
       "White                       931\n",
       "                           ... \n",
       "Blue Tabby/Blue Cream         1\n",
       "Brown Brindle/Blue Tick       1\n",
       "White/Calico                  1\n",
       "Black Smoke/Brown Tabby       1\n",
       "Black/Black Tabby             1\n",
       "Name: color, Length: 366, dtype: int64"
      ]
     },
     "execution_count": 41,
     "metadata": {},
     "output_type": "execute_result"
    }
   ],
   "source": [
    "X.color.value_counts()"
   ]
  },
  {
   "cell_type": "code",
   "execution_count": 42,
   "metadata": {},
   "outputs": [
    {
     "data": {
      "text/plain": [
       "[('/', 13924),\n",
       " ('White', 12198),\n",
       " ('Black', 8038),\n",
       " ('Brown', 6699),\n",
       " ('Tabby', 5191),\n",
       " ('Tan', 3031),\n",
       " ('Blue', 2358),\n",
       " ('Orange', 1440),\n",
       " ('Brindle', 1021),\n",
       " ('Red', 991),\n",
       " ('Tricolor', 912),\n",
       " ('Tortie', 618),\n",
       " ('Cream', 612),\n",
       " ('Point', 588),\n",
       " ('Calico', 583),\n",
       " ('Chocolate', 519),\n",
       " ('Gray', 407),\n",
       " ('Torbie', 398),\n",
       " ('Buff', 328),\n",
       " ('Merle', 325)]"
      ]
     },
     "execution_count": 42,
     "metadata": {},
     "output_type": "execute_result"
    }
   ],
   "source": [
    "one_big_text = \" \".join(X.color)\n",
    "words = one_big_text.replace('/',' / ').split()\n",
    "most_common = Counter(words).most_common()\n",
    "most_common[:20]"
   ]
  },
  {
   "cell_type": "code",
   "execution_count": 43,
   "metadata": {},
   "outputs": [],
   "source": [
    "Xcolor = pd.DataFrame()\n",
    "for col, num in most_common[:10]:\n",
    "    Xcolor[col] = X.color.str.contains(col).astype(int)"
   ]
  },
  {
   "cell_type": "code",
   "execution_count": 44,
   "metadata": {},
   "outputs": [
    {
     "data": {
      "text/plain": [
       "DecisionTreeClassifier(max_depth=4)"
      ]
     },
     "execution_count": 44,
     "metadata": {},
     "output_type": "execute_result"
    }
   ],
   "source": [
    "clf.fit(Xcolor, y)"
   ]
  },
  {
   "cell_type": "code",
   "execution_count": 45,
   "metadata": {},
   "outputs": [
    {
     "data": {
      "text/plain": [
       "array([0.13222148, 0.09588076, 0.0702783 , 0.06136179, 0.63291544,\n",
       "       0.00164846, 0.        , 0.        , 0.00569378, 0.        ])"
      ]
     },
     "execution_count": 45,
     "metadata": {},
     "output_type": "execute_result"
    }
   ],
   "source": [
    "clf.feature_importances_"
   ]
  },
  {
   "cell_type": "code",
   "execution_count": 46,
   "metadata": {},
   "outputs": [
    {
     "data": {
      "text/plain": [
       "Index(['/', 'White', 'Black', 'Brown', 'Tabby', 'Tan', 'Blue', 'Orange',\n",
       "       'Brindle', 'Red'],\n",
       "      dtype='object')"
      ]
     },
     "execution_count": 46,
     "metadata": {},
     "output_type": "execute_result"
    }
   ],
   "source": [
    "Xcolor.columns"
   ]
  },
  {
   "cell_type": "markdown",
   "metadata": {},
   "source": [
    "#### Осталось проверить итоговую таблицу на пропуски"
   ]
  },
  {
   "cell_type": "code",
   "execution_count": 47,
   "metadata": {},
   "outputs": [
    {
     "data": {
      "text/plain": [
       "name              7691\n",
       "datetime             0\n",
       "animaltype           0\n",
       "sexuponoutcome       0\n",
       "ageuponoutcome      18\n",
       "breed                0\n",
       "color                0\n",
       "has_name             0\n",
       "name_len             0\n",
       "name_words_num       0\n",
       "name_freq            0\n",
       "year                 0\n",
       "month                0\n",
       "day                  0\n",
       "hour                 0\n",
       "weekday              0\n",
       "is_dog               0\n",
       "sterilization        0\n",
       "sex                  0\n",
       "years                0\n",
       "is_domestic          0\n",
       "is_Bull              0\n",
       "dtype: int64"
      ]
     },
     "execution_count": 47,
     "metadata": {},
     "output_type": "execute_result"
    }
   ],
   "source": [
    "X.isnull().sum()"
   ]
  },
  {
   "cell_type": "code",
   "execution_count": 48,
   "metadata": {},
   "outputs": [
    {
     "data": {
      "text/html": [
       "<div>\n",
       "<style scoped>\n",
       "    .dataframe tbody tr th:only-of-type {\n",
       "        vertical-align: middle;\n",
       "    }\n",
       "\n",
       "    .dataframe tbody tr th {\n",
       "        vertical-align: top;\n",
       "    }\n",
       "\n",
       "    .dataframe thead th {\n",
       "        text-align: right;\n",
       "    }\n",
       "</style>\n",
       "<table border=\"1\" class=\"dataframe\">\n",
       "  <thead>\n",
       "    <tr style=\"text-align: right;\">\n",
       "      <th></th>\n",
       "      <th>has_name</th>\n",
       "      <th>name_len</th>\n",
       "      <th>name_words_num</th>\n",
       "      <th>name_freq</th>\n",
       "      <th>year</th>\n",
       "      <th>month</th>\n",
       "      <th>day</th>\n",
       "      <th>hour</th>\n",
       "      <th>weekday</th>\n",
       "      <th>is_dog</th>\n",
       "      <th>sterilization</th>\n",
       "      <th>sex</th>\n",
       "      <th>years</th>\n",
       "      <th>is_domestic</th>\n",
       "      <th>is_Bull</th>\n",
       "    </tr>\n",
       "  </thead>\n",
       "  <tbody>\n",
       "    <tr>\n",
       "      <th>0</th>\n",
       "      <td>0</td>\n",
       "      <td>7.0</td>\n",
       "      <td>1.0</td>\n",
       "      <td>5.0</td>\n",
       "      <td>2014</td>\n",
       "      <td>2</td>\n",
       "      <td>12</td>\n",
       "      <td>18.366667</td>\n",
       "      <td>2</td>\n",
       "      <td>1</td>\n",
       "      <td>1</td>\n",
       "      <td>1</td>\n",
       "      <td>1.000000</td>\n",
       "      <td>0</td>\n",
       "      <td>0</td>\n",
       "    </tr>\n",
       "    <tr>\n",
       "      <th>1</th>\n",
       "      <td>0</td>\n",
       "      <td>5.0</td>\n",
       "      <td>1.0</td>\n",
       "      <td>16.0</td>\n",
       "      <td>2013</td>\n",
       "      <td>10</td>\n",
       "      <td>13</td>\n",
       "      <td>12.733333</td>\n",
       "      <td>6</td>\n",
       "      <td>0</td>\n",
       "      <td>1</td>\n",
       "      <td>0</td>\n",
       "      <td>1.000000</td>\n",
       "      <td>1</td>\n",
       "      <td>0</td>\n",
       "    </tr>\n",
       "    <tr>\n",
       "      <th>2</th>\n",
       "      <td>0</td>\n",
       "      <td>6.0</td>\n",
       "      <td>1.0</td>\n",
       "      <td>2.0</td>\n",
       "      <td>2015</td>\n",
       "      <td>1</td>\n",
       "      <td>31</td>\n",
       "      <td>12.466667</td>\n",
       "      <td>5</td>\n",
       "      <td>1</td>\n",
       "      <td>1</td>\n",
       "      <td>1</td>\n",
       "      <td>2.000000</td>\n",
       "      <td>0</td>\n",
       "      <td>1</td>\n",
       "    </tr>\n",
       "    <tr>\n",
       "      <th>3</th>\n",
       "      <td>1</td>\n",
       "      <td>5.0</td>\n",
       "      <td>1.0</td>\n",
       "      <td>6.0</td>\n",
       "      <td>2014</td>\n",
       "      <td>7</td>\n",
       "      <td>11</td>\n",
       "      <td>19.150000</td>\n",
       "      <td>4</td>\n",
       "      <td>0</td>\n",
       "      <td>0</td>\n",
       "      <td>1</td>\n",
       "      <td>0.057534</td>\n",
       "      <td>1</td>\n",
       "      <td>0</td>\n",
       "    </tr>\n",
       "    <tr>\n",
       "      <th>4</th>\n",
       "      <td>1</td>\n",
       "      <td>5.0</td>\n",
       "      <td>1.0</td>\n",
       "      <td>6.0</td>\n",
       "      <td>2013</td>\n",
       "      <td>11</td>\n",
       "      <td>15</td>\n",
       "      <td>12.866667</td>\n",
       "      <td>4</td>\n",
       "      <td>1</td>\n",
       "      <td>1</td>\n",
       "      <td>1</td>\n",
       "      <td>2.000000</td>\n",
       "      <td>0</td>\n",
       "      <td>0</td>\n",
       "    </tr>\n",
       "    <tr>\n",
       "      <th>...</th>\n",
       "      <td>...</td>\n",
       "      <td>...</td>\n",
       "      <td>...</td>\n",
       "      <td>...</td>\n",
       "      <td>...</td>\n",
       "      <td>...</td>\n",
       "      <td>...</td>\n",
       "      <td>...</td>\n",
       "      <td>...</td>\n",
       "      <td>...</td>\n",
       "      <td>...</td>\n",
       "      <td>...</td>\n",
       "      <td>...</td>\n",
       "      <td>...</td>\n",
       "      <td>...</td>\n",
       "    </tr>\n",
       "    <tr>\n",
       "      <th>26724</th>\n",
       "      <td>1</td>\n",
       "      <td>5.0</td>\n",
       "      <td>1.0</td>\n",
       "      <td>6.0</td>\n",
       "      <td>2015</td>\n",
       "      <td>5</td>\n",
       "      <td>14</td>\n",
       "      <td>11.933333</td>\n",
       "      <td>3</td>\n",
       "      <td>0</td>\n",
       "      <td>0</td>\n",
       "      <td>1</td>\n",
       "      <td>0.083333</td>\n",
       "      <td>1</td>\n",
       "      <td>0</td>\n",
       "    </tr>\n",
       "    <tr>\n",
       "      <th>26725</th>\n",
       "      <td>1</td>\n",
       "      <td>5.0</td>\n",
       "      <td>1.0</td>\n",
       "      <td>6.0</td>\n",
       "      <td>2016</td>\n",
       "      <td>1</td>\n",
       "      <td>20</td>\n",
       "      <td>18.983333</td>\n",
       "      <td>2</td>\n",
       "      <td>0</td>\n",
       "      <td>1</td>\n",
       "      <td>0</td>\n",
       "      <td>0.250000</td>\n",
       "      <td>1</td>\n",
       "      <td>0</td>\n",
       "    </tr>\n",
       "    <tr>\n",
       "      <th>26726</th>\n",
       "      <td>0</td>\n",
       "      <td>4.0</td>\n",
       "      <td>1.0</td>\n",
       "      <td>36.0</td>\n",
       "      <td>2015</td>\n",
       "      <td>3</td>\n",
       "      <td>9</td>\n",
       "      <td>13.550000</td>\n",
       "      <td>0</td>\n",
       "      <td>1</td>\n",
       "      <td>1</td>\n",
       "      <td>1</td>\n",
       "      <td>4.000000</td>\n",
       "      <td>0</td>\n",
       "      <td>1</td>\n",
       "    </tr>\n",
       "    <tr>\n",
       "      <th>26727</th>\n",
       "      <td>1</td>\n",
       "      <td>5.0</td>\n",
       "      <td>1.0</td>\n",
       "      <td>6.0</td>\n",
       "      <td>2014</td>\n",
       "      <td>4</td>\n",
       "      <td>27</td>\n",
       "      <td>12.366667</td>\n",
       "      <td>6</td>\n",
       "      <td>0</td>\n",
       "      <td>0</td>\n",
       "      <td>1</td>\n",
       "      <td>0.076712</td>\n",
       "      <td>1</td>\n",
       "      <td>0</td>\n",
       "    </tr>\n",
       "    <tr>\n",
       "      <th>26728</th>\n",
       "      <td>1</td>\n",
       "      <td>5.0</td>\n",
       "      <td>1.0</td>\n",
       "      <td>6.0</td>\n",
       "      <td>2015</td>\n",
       "      <td>7</td>\n",
       "      <td>2</td>\n",
       "      <td>9.000000</td>\n",
       "      <td>3</td>\n",
       "      <td>0</td>\n",
       "      <td>0</td>\n",
       "      <td>1</td>\n",
       "      <td>1.000000</td>\n",
       "      <td>1</td>\n",
       "      <td>0</td>\n",
       "    </tr>\n",
       "  </tbody>\n",
       "</table>\n",
       "<p>26729 rows × 15 columns</p>\n",
       "</div>"
      ],
      "text/plain": [
       "       has_name  name_len  name_words_num  name_freq  year  month  day  \\\n",
       "0             0       7.0             1.0        5.0  2014      2   12   \n",
       "1             0       5.0             1.0       16.0  2013     10   13   \n",
       "2             0       6.0             1.0        2.0  2015      1   31   \n",
       "3             1       5.0             1.0        6.0  2014      7   11   \n",
       "4             1       5.0             1.0        6.0  2013     11   15   \n",
       "...         ...       ...             ...        ...   ...    ...  ...   \n",
       "26724         1       5.0             1.0        6.0  2015      5   14   \n",
       "26725         1       5.0             1.0        6.0  2016      1   20   \n",
       "26726         0       4.0             1.0       36.0  2015      3    9   \n",
       "26727         1       5.0             1.0        6.0  2014      4   27   \n",
       "26728         1       5.0             1.0        6.0  2015      7    2   \n",
       "\n",
       "            hour  weekday  is_dog  sterilization  sex     years  is_domestic  \\\n",
       "0      18.366667        2       1              1    1  1.000000            0   \n",
       "1      12.733333        6       0              1    0  1.000000            1   \n",
       "2      12.466667        5       1              1    1  2.000000            0   \n",
       "3      19.150000        4       0              0    1  0.057534            1   \n",
       "4      12.866667        4       1              1    1  2.000000            0   \n",
       "...          ...      ...     ...            ...  ...       ...          ...   \n",
       "26724  11.933333        3       0              0    1  0.083333            1   \n",
       "26725  18.983333        2       0              1    0  0.250000            1   \n",
       "26726  13.550000        0       1              1    1  4.000000            0   \n",
       "26727  12.366667        6       0              0    1  0.076712            1   \n",
       "26728   9.000000        3       0              0    1  1.000000            1   \n",
       "\n",
       "       is_Bull  \n",
       "0            0  \n",
       "1            0  \n",
       "2            1  \n",
       "3            0  \n",
       "4            0  \n",
       "...        ...  \n",
       "26724        0  \n",
       "26725        0  \n",
       "26726        1  \n",
       "26727        0  \n",
       "26728        0  \n",
       "\n",
       "[26729 rows x 15 columns]"
      ]
     },
     "execution_count": 48,
     "metadata": {},
     "output_type": "execute_result"
    }
   ],
   "source": [
    "X = X.drop(data_columns.str.lower(), axis=1)\n",
    "X"
   ]
  },
  {
   "cell_type": "code",
   "execution_count": 49,
   "metadata": {},
   "outputs": [
    {
     "data": {
      "text/plain": [
       "has_name          0\n",
       "name_len          0\n",
       "name_words_num    0\n",
       "name_freq         0\n",
       "year              0\n",
       "month             0\n",
       "day               0\n",
       "hour              0\n",
       "weekday           0\n",
       "is_dog            0\n",
       "sterilization     0\n",
       "sex               0\n",
       "years             0\n",
       "is_domestic       0\n",
       "is_Bull           0\n",
       "dtype: int64"
      ]
     },
     "execution_count": 49,
     "metadata": {},
     "output_type": "execute_result"
    }
   ],
   "source": [
    "X.isnull().sum()"
   ]
  },
  {
   "cell_type": "code",
   "execution_count": 50,
   "metadata": {},
   "outputs": [
    {
     "data": {
      "text/plain": [
       "(26729, 15)"
      ]
     },
     "execution_count": 50,
     "metadata": {},
     "output_type": "execute_result"
    }
   ],
   "source": [
    "X.shape"
   ]
  },
  {
   "cell_type": "code",
   "execution_count": 51,
   "metadata": {},
   "outputs": [
    {
     "data": {
      "text/plain": [
       "(26729,)"
      ]
     },
     "execution_count": 51,
     "metadata": {},
     "output_type": "execute_result"
    }
   ],
   "source": [
    "y.shape"
   ]
  },
  {
   "cell_type": "markdown",
   "metadata": {},
   "source": [
    "### Задание 1"
   ]
  },
  {
   "cell_type": "markdown",
   "metadata": {},
   "source": [
    "У нас есть X и y. Делим на обучающую и тестовую выборку\n",
    "\n",
    "1. Обучить решающее дерево и подобрать наилучшие гиперпараметры дерева."
   ]
  },
  {
   "cell_type": "code",
   "execution_count": 52,
   "metadata": {},
   "outputs": [],
   "source": [
    "from sklearn.model_selection import train_test_split\n",
    "from sklearn.tree import DecisionTreeClassifier"
   ]
  },
  {
   "cell_type": "code",
   "execution_count": 53,
   "metadata": {},
   "outputs": [],
   "source": [
    "X_train, X_test, y_train, y_test = train_test_split(X, y, test_size=0.2, random_state=42)"
   ]
  },
  {
   "cell_type": "code",
   "execution_count": 54,
   "metadata": {},
   "outputs": [],
   "source": [
    "from sklearn.model_selection import GridSearchCV"
   ]
  },
  {
   "cell_type": "code",
   "execution_count": 55,
   "metadata": {},
   "outputs": [],
   "source": [
    "depths = np.arange(1,20)\n",
    "#features_num = np.arange(5,20)\n",
    "grid = {'max_depth': depths}#, 'max_features': features_num}\n",
    "gridsearch = GridSearchCV(DecisionTreeClassifier(), grid, cv=5, n_jobs=-1, verbose=1)"
   ]
  },
  {
   "cell_type": "code",
   "execution_count": 56,
   "metadata": {},
   "outputs": [
    {
     "name": "stdout",
     "output_type": "stream",
     "text": [
      "Fitting 5 folds for each of 19 candidates, totalling 95 fits\n"
     ]
    },
    {
     "name": "stderr",
     "output_type": "stream",
     "text": [
      "[Parallel(n_jobs=-1)]: Using backend LokyBackend with 4 concurrent workers.\n",
      "[Parallel(n_jobs=-1)]: Done  42 tasks      | elapsed:    4.5s\n"
     ]
    },
    {
     "name": "stdout",
     "output_type": "stream",
     "text": [
      "Wall time: 7.38 s\n"
     ]
    },
    {
     "name": "stderr",
     "output_type": "stream",
     "text": [
      "[Parallel(n_jobs=-1)]: Done  95 out of  95 | elapsed:    7.2s finished\n"
     ]
    },
    {
     "data": {
      "text/plain": [
       "GridSearchCV(cv=5, estimator=DecisionTreeClassifier(), n_jobs=-1,\n",
       "             param_grid={'max_depth': array([ 1,  2,  3,  4,  5,  6,  7,  8,  9, 10, 11, 12, 13, 14, 15, 16, 17,\n",
       "       18, 19])},\n",
       "             verbose=1)"
      ]
     },
     "execution_count": 56,
     "metadata": {},
     "output_type": "execute_result"
    }
   ],
   "source": [
    "%%time\n",
    "gridsearch.fit(X_train, y_train)"
   ]
  },
  {
   "cell_type": "code",
   "execution_count": 57,
   "metadata": {},
   "outputs": [
    {
     "data": {
      "text/plain": [
       "{'mean_fit_time': array([0.02340131, 0.04160242, 0.04740267, 0.07060409, 0.07420425,\n",
       "        0.09100523, 0.09440536, 0.12300706, 0.13180752, 0.15060859,\n",
       "        0.14820838, 0.18261037, 0.16680961, 0.1714097 , 0.21881242,\n",
       "        0.19921126, 0.19061084, 0.20481181, 0.18041039]),\n",
       " 'std_fit_time': array([0.00215428, 0.00765813, 0.00902486, 0.01978591, 0.01449769,\n",
       "        0.01300833, 0.01993708, 0.01924688, 0.01579206, 0.01820646,\n",
       "        0.01912596, 0.02591369, 0.01823729, 0.01806318, 0.0334648 ,\n",
       "        0.02192292, 0.02137969, 0.01747548, 0.01233936]),\n",
       " 'mean_score_time': array([0.00520029, 0.00680046, 0.00740037, 0.00660028, 0.01220069,\n",
       "        0.00800047, 0.00580049, 0.01280074, 0.01140065, 0.00640044,\n",
       "        0.00740042, 0.00640049, 0.00560031, 0.00720034, 0.00620036,\n",
       "        0.00800052, 0.00580029, 0.01000051, 0.00640039]),\n",
       " 'std_score_time': array([0.00074848, 0.00203974, 0.00300686, 0.00162485, 0.00966281,\n",
       "        0.0026835 , 0.00074826, 0.00908675, 0.00866305, 0.00120025,\n",
       "        0.0027277 , 0.00174371, 0.00080006, 0.00248219, 0.00074838,\n",
       "        0.00451696, 0.00040009, 0.00586559, 0.00135664]),\n",
       " 'param_max_depth': masked_array(data=[1, 2, 3, 4, 5, 6, 7, 8, 9, 10, 11, 12, 13, 14, 15, 16,\n",
       "                    17, 18, 19],\n",
       "              mask=[False, False, False, False, False, False, False, False,\n",
       "                    False, False, False, False, False, False, False, False,\n",
       "                    False, False, False],\n",
       "        fill_value='?',\n",
       "             dtype=object),\n",
       " 'params': [{'max_depth': 1},\n",
       "  {'max_depth': 2},\n",
       "  {'max_depth': 3},\n",
       "  {'max_depth': 4},\n",
       "  {'max_depth': 5},\n",
       "  {'max_depth': 6},\n",
       "  {'max_depth': 7},\n",
       "  {'max_depth': 8},\n",
       "  {'max_depth': 9},\n",
       "  {'max_depth': 10},\n",
       "  {'max_depth': 11},\n",
       "  {'max_depth': 12},\n",
       "  {'max_depth': 13},\n",
       "  {'max_depth': 14},\n",
       "  {'max_depth': 15},\n",
       "  {'max_depth': 16},\n",
       "  {'max_depth': 17},\n",
       "  {'max_depth': 18},\n",
       "  {'max_depth': 19}],\n",
       " 'split0_test_score': array([0.57657236, 0.61257891, 0.61374795, 0.61585223, 0.62801029,\n",
       "        0.64274024, 0.65372925, 0.65536591, 0.66144494, 0.65045593,\n",
       "        0.65583353, 0.64952069, 0.63993453, 0.63619359, 0.62684124,\n",
       "        0.62006079, 0.61631985, 0.60766893, 0.60673369]),\n",
       " 'split1_test_score': array([0.56651859, 0.60533084, 0.60509703, 0.60649988, 0.61982698,\n",
       "        0.64928688, 0.66167875, 0.66939444, 0.67079729, 0.66541969,\n",
       "        0.66939444, 0.65817162, 0.64835165, 0.63853168, 0.62894552,\n",
       "        0.63058218, 0.62380173, 0.62520458, 0.62076222]),\n",
       " 'split2_test_score': array([0.57400047, 0.60813654, 0.60907178, 0.61211129, 0.62263269,\n",
       "        0.64671499, 0.66238017, 0.66962824, 0.67032967, 0.66705635,\n",
       "        0.65887304, 0.65302782, 0.64952069, 0.64765022, 0.63970072,\n",
       "        0.63549217, 0.62964695, 0.6256722 , 0.62216507]),\n",
       " 'split3_test_score': array([0.56501403, 0.59775491, 0.59962582, 0.60196445, 0.62067353,\n",
       "        0.63143124, 0.6559869 , 0.66276894, 0.66627689, 0.66791394,\n",
       "        0.65762395, 0.65785781, 0.64499532, 0.63657624, 0.63166511,\n",
       "        0.62605239, 0.62231057, 0.61038354, 0.61038354]),\n",
       " 'split4_test_score': array([0.56735267, 0.60757717, 0.60851263, 0.61342376, 0.62301216,\n",
       "        0.64078578, 0.6559869 , 0.66674462, 0.66159963, 0.66463985,\n",
       "        0.6637044 , 0.65481759, 0.65247895, 0.64546305, 0.63353601,\n",
       "        0.63985033, 0.6349392 , 0.63049579, 0.6272217 ]),\n",
       " 'mean_test_score': array([0.56989162, 0.60627568, 0.60721104, 0.60997032, 0.62283113,\n",
       "        0.64219183, 0.6579524 , 0.66478043, 0.66608968, 0.66309715,\n",
       "        0.66108587, 0.65467911, 0.64705623, 0.64088296, 0.63213772,\n",
       "        0.63040757, 0.62540366, 0.61988501, 0.61745324]),\n",
       " 'std_test_score': array([0.00454157, 0.00486587, 0.00468812, 0.0050447 , 0.00284872,\n",
       "        0.006146  , 0.00343663, 0.00531653, 0.00404743, 0.00642575,\n",
       "        0.00490627, 0.00321425, 0.0042924 , 0.00475057, 0.00441861,\n",
       "        0.00694367, 0.00638092, 0.00909823, 0.00766111]),\n",
       " 'rank_test_score': array([19, 18, 17, 16, 13,  8,  5,  2,  1,  3,  4,  6,  7,  9, 10, 11, 12,\n",
       "        14, 15])}"
      ]
     },
     "execution_count": 57,
     "metadata": {},
     "output_type": "execute_result"
    }
   ],
   "source": [
    "gridsearch.cv_results_"
   ]
  },
  {
   "cell_type": "code",
   "execution_count": 58,
   "metadata": {},
   "outputs": [
    {
     "data": {
      "text/plain": [
       "array([0.56989162, 0.60627568, 0.60721104, 0.60997032, 0.62283113,\n",
       "       0.64219183, 0.6579524 , 0.66478043, 0.66608968, 0.66309715,\n",
       "       0.66108587, 0.65467911, 0.64705623, 0.64088296, 0.63213772,\n",
       "       0.63040757, 0.62540366, 0.61988501, 0.61745324])"
      ]
     },
     "execution_count": 58,
     "metadata": {},
     "output_type": "execute_result"
    }
   ],
   "source": [
    "gridsearch.cv_results_['mean_test_score']"
   ]
  },
  {
   "cell_type": "code",
   "execution_count": 59,
   "metadata": {
    "scrolled": false
   },
   "outputs": [
    {
     "data": {
      "image/png": "[encoded data removed]",
      "text/plain": [
       "<Figure size 432x288 with 1 Axes>"
      ]
     },
     "metadata": {
      "needs_background": "light"
     },
     "output_type": "display_data"
    }
   ],
   "source": [
    "# визуализация поиска лучшего параметра max_depth \n",
    "scores = [x.mean() for x in gridsearch.cv_results_['mean_test_score']]\n",
    "plt.plot(depths, scores)\n",
    "plt.scatter(depths, scores)\n",
    "best_point = np.argmax(scores)\n",
    "plt.grid()\n",
    "plt.scatter(depths[best_point], scores[best_point], c='g', s=100);"
   ]
  },
  {
   "cell_type": "markdown",
   "metadata": {},
   "source": [
    "Так, отлично, спасли себя от переобучения (правда, в Grid можно было указать и другие параметры и найти более оптимальную точку).  \n",
    "ЧТО И БУДЕМ ЗАДАНИЕМ!! :))\n",
    "\n",
    "Фиксируем полученный полученные лучшие параметры"
   ]
  },
  {
   "cell_type": "code",
   "execution_count": 60,
   "metadata": {},
   "outputs": [],
   "source": [
    "clf_final = DecisionTreeClassifier(max_depth=9)"
   ]
  },
  {
   "cell_type": "code",
   "execution_count": 61,
   "metadata": {},
   "outputs": [
    {
     "data": {
      "text/plain": [
       "DecisionTreeClassifier(max_depth=9)"
      ]
     },
     "execution_count": 61,
     "metadata": {},
     "output_type": "execute_result"
    }
   ],
   "source": [
    "clf_final.fit(X_train, y_train)"
   ]
  },
  {
   "cell_type": "markdown",
   "metadata": {},
   "source": [
    "Делаем предсказания"
   ]
  },
  {
   "cell_type": "code",
   "execution_count": 62,
   "metadata": {},
   "outputs": [],
   "source": [
    "y_pred_proba = clf_final.predict_proba(X_test)\n",
    "y_pred = clf_final.predict(X_test)"
   ]
  },
  {
   "cell_type": "markdown",
   "metadata": {},
   "source": [
    "#### Метрика качества"
   ]
  },
  {
   "cell_type": "code",
   "execution_count": 63,
   "metadata": {},
   "outputs": [],
   "source": [
    "from sklearn.metrics import classification_report"
   ]
  },
  {
   "cell_type": "code",
   "execution_count": 64,
   "metadata": {},
   "outputs": [
    {
     "name": "stdout",
     "output_type": "stream",
     "text": [
      "                 precision    recall  f1-score   support\n",
      "\n",
      "Return_to_owner       0.70      0.82      0.75      2219\n",
      "     Euthanasia       0.29      0.12      0.17        33\n",
      "       Adoption       0.54      0.18      0.27       298\n",
      "       Transfer       0.47      0.46      0.47       961\n",
      "           Died       0.75      0.68      0.71      1835\n",
      "\n",
      "       accuracy                           0.67      5346\n",
      "      macro avg       0.55      0.45      0.47      5346\n",
      "   weighted avg       0.66      0.67      0.66      5346\n",
      "\n"
     ]
    }
   ],
   "source": [
    "report = classification_report(y_test, y_pred, target_names=data.OutcomeType.unique())\n",
    "print(report)"
   ]
  },
  {
   "cell_type": "code",
   "execution_count": 65,
   "metadata": {},
   "outputs": [],
   "source": [
    "from sklearn.preprocessing import label_binarize\n",
    "n_classes = len(set(y_test))\n",
    "y_test_bin = label_binarize(y_test, classes=[*range(n_classes)])"
   ]
  },
  {
   "cell_type": "code",
   "execution_count": 86,
   "metadata": {},
   "outputs": [
    {
     "data": {
      "text/plain": [
       "array([[1, 0, 0, 0, 0],\n",
       "       [0, 0, 0, 0, 1],\n",
       "       [0, 0, 0, 0, 1],\n",
       "       ...,\n",
       "       [1, 0, 0, 0, 0],\n",
       "       [0, 0, 0, 0, 1],\n",
       "       [0, 0, 0, 1, 0]])"
      ]
     },
     "execution_count": 86,
     "metadata": {},
     "output_type": "execute_result"
    }
   ],
   "source": [
    "y_test_bin"
   ]
  },
  {
   "cell_type": "code",
   "execution_count": 66,
   "metadata": {},
   "outputs": [],
   "source": [
    "# метод для построения графика precision-recall\n",
    "from sklearn.metrics import precision_recall_curve"
   ]
  },
  {
   "cell_type": "code",
   "execution_count": 67,
   "metadata": {},
   "outputs": [
    {
     "data": {
      "image/png": "[encoded data removed]",
      "text/plain": [
       "<Figure size 432x288 with 1 Axes>"
      ]
     },
     "metadata": {
      "needs_background": "light"
     },
     "output_type": "display_data"
    }
   ],
   "source": [
    "# precision recall curve\n",
    "precision = dict()\n",
    "recall = dict()\n",
    "\n",
    "for i in range(n_classes):\n",
    "    precision[i], recall[i], _ = precision_recall_curve(y_test_bin[:, i],\n",
    "                                                        y_pred_proba[:, i])\n",
    "    plt.plot(recall[i], precision[i], lw=1, label=data.OutcomeType.unique()[i])\n",
    "    \n",
    "precision_full = pd.DataFrame.from_dict(precision, orient='index').sum(axis=0) / n_classes\n",
    "recall_full = pd.DataFrame.from_dict(recall, orient='index').sum(axis=0) / n_classes\n",
    "\n",
    "plt.plot(recall_full, precision_full, lw=1, label='Full')\n",
    "\n",
    "plt.axis([0,1,0,1]) # установка пределов осей координат\n",
    "plt.xlabel(\"recall\")\n",
    "plt.ylabel(\"precision\")\n",
    "plt.legend(loc=\"best\")\n",
    "plt.title(\"precision vs. recall curve\")\n",
    "plt.legend( loc = 1 )\n",
    "plt.grid()\n",
    "plt.show();"
   ]
  },
  {
   "cell_type": "code",
   "execution_count": 68,
   "metadata": {},
   "outputs": [],
   "source": [
    "from sklearn.metrics import roc_auc_score\n",
    "from sklearn.metrics import auc\n",
    "from sklearn.metrics import average_precision_score"
   ]
  },
  {
   "cell_type": "code",
   "execution_count": 69,
   "metadata": {},
   "outputs": [
    {
     "data": {
      "text/plain": [
       "0.3997635389880981"
      ]
     },
     "execution_count": 69,
     "metadata": {},
     "output_type": "execute_result"
    }
   ],
   "source": [
    "auc( recall_full, precision_full)"
   ]
  },
  {
   "cell_type": "code",
   "execution_count": 70,
   "metadata": {},
   "outputs": [
    {
     "data": {
      "text/plain": [
       "0.7794238732857144"
      ]
     },
     "execution_count": 70,
     "metadata": {},
     "output_type": "execute_result"
    }
   ],
   "source": [
    "roc_auc_score( y_test, y_pred_proba, multi_class = 'ovo' )"
   ]
  },
  {
   "cell_type": "markdown",
   "metadata": {},
   "source": [
    "Визуализация дерева"
   ]
  },
  {
   "cell_type": "code",
   "execution_count": 71,
   "metadata": {},
   "outputs": [],
   "source": [
    "from sklearn.tree import export_graphviz\n",
    "\n",
    "def get_tree_dot_view(clf, feature_names=None, class_names=None):\n",
    "    print(export_graphviz(clf, out_file=None, filled=True, feature_names=feature_names, class_names=class_names))"
   ]
  },
  {
   "cell_type": "markdown",
   "metadata": {},
   "source": [
    "http://www.webgraphviz.com"
   ]
  },
  {
   "cell_type": "code",
   "execution_count": 72,
   "metadata": {
    "scrolled": true
   },
   "outputs": [],
   "source": [
    "#get_tree_dot_view(clf_final, list(Xtrain_prep.columns), list(le.classes_))"
   ]
  },
  {
   "cell_type": "markdown",
   "metadata": {},
   "source": [
    "### ЗАДАНИЕ 2"
   ]
  },
  {
   "cell_type": "markdown",
   "metadata": {},
   "source": [
    "1. Построить модель логистической регрессии с наилучшим качеством."
   ]
  },
  {
   "cell_type": "code",
   "execution_count": 73,
   "metadata": {},
   "outputs": [],
   "source": [
    "from sklearn.linear_model import LogisticRegression\n",
    "from sklearn.preprocessing import StandardScaler"
   ]
  },
  {
   "cell_type": "code",
   "execution_count": 74,
   "metadata": {},
   "outputs": [
    {
     "data": {
      "text/plain": [
       "StandardScaler()"
      ]
     },
     "execution_count": 74,
     "metadata": {},
     "output_type": "execute_result"
    }
   ],
   "source": [
    "scaler = StandardScaler()\n",
    "scaler.fit(X)"
   ]
  },
  {
   "cell_type": "code",
   "execution_count": 75,
   "metadata": {},
   "outputs": [
    {
     "data": {
      "text/html": [
       "<div>\n",
       "<style scoped>\n",
       "    .dataframe tbody tr th:only-of-type {\n",
       "        vertical-align: middle;\n",
       "    }\n",
       "\n",
       "    .dataframe tbody tr th {\n",
       "        vertical-align: top;\n",
       "    }\n",
       "\n",
       "    .dataframe thead th {\n",
       "        text-align: right;\n",
       "    }\n",
       "</style>\n",
       "<table border=\"1\" class=\"dataframe\">\n",
       "  <thead>\n",
       "    <tr style=\"text-align: right;\">\n",
       "      <th></th>\n",
       "      <th>has_name</th>\n",
       "      <th>name_len</th>\n",
       "      <th>name_words_num</th>\n",
       "      <th>name_freq</th>\n",
       "      <th>year</th>\n",
       "      <th>month</th>\n",
       "      <th>day</th>\n",
       "      <th>hour</th>\n",
       "      <th>weekday</th>\n",
       "      <th>is_dog</th>\n",
       "      <th>sterilization</th>\n",
       "      <th>sex</th>\n",
       "      <th>years</th>\n",
       "      <th>is_domestic</th>\n",
       "      <th>is_Bull</th>\n",
       "    </tr>\n",
       "  </thead>\n",
       "  <tbody>\n",
       "    <tr>\n",
       "      <th>0</th>\n",
       "      <td>-0.635595</td>\n",
       "      <td>1.107036</td>\n",
       "      <td>-0.176138</td>\n",
       "      <td>-0.396611</td>\n",
       "      <td>-0.580974</td>\n",
       "      <td>-1.409043</td>\n",
       "      <td>-0.421688</td>\n",
       "      <td>1.020412</td>\n",
       "      <td>-0.540755</td>\n",
       "      <td>0.844954</td>\n",
       "      <td>0.440451</td>\n",
       "      <td>0.736846</td>\n",
       "      <td>-0.396515</td>\n",
       "      <td>-0.798188</td>\n",
       "      <td>-0.333063</td>\n",
       "    </tr>\n",
       "    <tr>\n",
       "      <th>1</th>\n",
       "      <td>-0.635595</td>\n",
       "      <td>-0.291256</td>\n",
       "      <td>-0.176138</td>\n",
       "      <td>0.116771</td>\n",
       "      <td>-1.929785</td>\n",
       "      <td>0.879415</td>\n",
       "      <td>-0.307667</td>\n",
       "      <td>-0.640992</td>\n",
       "      <td>1.414315</td>\n",
       "      <td>-1.183497</td>\n",
       "      <td>0.440451</td>\n",
       "      <td>-1.015860</td>\n",
       "      <td>-0.396515</td>\n",
       "      <td>1.252838</td>\n",
       "      <td>-0.333063</td>\n",
       "    </tr>\n",
       "    <tr>\n",
       "      <th>2</th>\n",
       "      <td>-0.635595</td>\n",
       "      <td>0.407890</td>\n",
       "      <td>-0.176138</td>\n",
       "      <td>-0.536624</td>\n",
       "      <td>0.767836</td>\n",
       "      <td>-1.695100</td>\n",
       "      <td>1.744707</td>\n",
       "      <td>-0.719638</td>\n",
       "      <td>0.925548</td>\n",
       "      <td>0.844954</td>\n",
       "      <td>0.440451</td>\n",
       "      <td>0.736846</td>\n",
       "      <td>-0.059276</td>\n",
       "      <td>-0.798188</td>\n",
       "      <td>3.002434</td>\n",
       "    </tr>\n",
       "    <tr>\n",
       "      <th>3</th>\n",
       "      <td>1.573328</td>\n",
       "      <td>-0.291256</td>\n",
       "      <td>-0.176138</td>\n",
       "      <td>-0.349940</td>\n",
       "      <td>-0.580974</td>\n",
       "      <td>0.021244</td>\n",
       "      <td>-0.535709</td>\n",
       "      <td>1.251436</td>\n",
       "      <td>0.436780</td>\n",
       "      <td>-1.183497</td>\n",
       "      <td>-1.540837</td>\n",
       "      <td>0.736846</td>\n",
       "      <td>-0.714351</td>\n",
       "      <td>1.252838</td>\n",
       "      <td>-0.333063</td>\n",
       "    </tr>\n",
       "    <tr>\n",
       "      <th>4</th>\n",
       "      <td>1.573328</td>\n",
       "      <td>-0.291256</td>\n",
       "      <td>-0.176138</td>\n",
       "      <td>-0.349940</td>\n",
       "      <td>-1.929785</td>\n",
       "      <td>1.165473</td>\n",
       "      <td>-0.079626</td>\n",
       "      <td>-0.601669</td>\n",
       "      <td>0.436780</td>\n",
       "      <td>0.844954</td>\n",
       "      <td>0.440451</td>\n",
       "      <td>0.736846</td>\n",
       "      <td>-0.059276</td>\n",
       "      <td>-0.798188</td>\n",
       "      <td>-0.333063</td>\n",
       "    </tr>\n",
       "    <tr>\n",
       "      <th>...</th>\n",
       "      <td>...</td>\n",
       "      <td>...</td>\n",
       "      <td>...</td>\n",
       "      <td>...</td>\n",
       "      <td>...</td>\n",
       "      <td>...</td>\n",
       "      <td>...</td>\n",
       "      <td>...</td>\n",
       "      <td>...</td>\n",
       "      <td>...</td>\n",
       "      <td>...</td>\n",
       "      <td>...</td>\n",
       "      <td>...</td>\n",
       "      <td>...</td>\n",
       "      <td>...</td>\n",
       "    </tr>\n",
       "    <tr>\n",
       "      <th>26724</th>\n",
       "      <td>1.573328</td>\n",
       "      <td>-0.291256</td>\n",
       "      <td>-0.176138</td>\n",
       "      <td>-0.349940</td>\n",
       "      <td>0.767836</td>\n",
       "      <td>-0.550871</td>\n",
       "      <td>-0.193646</td>\n",
       "      <td>-0.876931</td>\n",
       "      <td>-0.051987</td>\n",
       "      <td>-1.183497</td>\n",
       "      <td>-1.540837</td>\n",
       "      <td>0.736846</td>\n",
       "      <td>-0.705650</td>\n",
       "      <td>1.252838</td>\n",
       "      <td>-0.333063</td>\n",
       "    </tr>\n",
       "    <tr>\n",
       "      <th>26725</th>\n",
       "      <td>1.573328</td>\n",
       "      <td>-0.291256</td>\n",
       "      <td>-0.176138</td>\n",
       "      <td>-0.349940</td>\n",
       "      <td>2.116647</td>\n",
       "      <td>-1.695100</td>\n",
       "      <td>0.490478</td>\n",
       "      <td>1.202282</td>\n",
       "      <td>-0.540755</td>\n",
       "      <td>-1.183497</td>\n",
       "      <td>0.440451</td>\n",
       "      <td>-1.015860</td>\n",
       "      <td>-0.649444</td>\n",
       "      <td>1.252838</td>\n",
       "      <td>-0.333063</td>\n",
       "    </tr>\n",
       "    <tr>\n",
       "      <th>26726</th>\n",
       "      <td>-0.635595</td>\n",
       "      <td>-0.990403</td>\n",
       "      <td>-0.176138</td>\n",
       "      <td>1.050194</td>\n",
       "      <td>0.767836</td>\n",
       "      <td>-1.122985</td>\n",
       "      <td>-0.763750</td>\n",
       "      <td>-0.400138</td>\n",
       "      <td>-1.518290</td>\n",
       "      <td>0.844954</td>\n",
       "      <td>0.440451</td>\n",
       "      <td>0.736846</td>\n",
       "      <td>0.615202</td>\n",
       "      <td>-0.798188</td>\n",
       "      <td>3.002434</td>\n",
       "    </tr>\n",
       "    <tr>\n",
       "      <th>26727</th>\n",
       "      <td>1.573328</td>\n",
       "      <td>-0.291256</td>\n",
       "      <td>-0.176138</td>\n",
       "      <td>-0.349940</td>\n",
       "      <td>-0.580974</td>\n",
       "      <td>-0.836928</td>\n",
       "      <td>1.288624</td>\n",
       "      <td>-0.749131</td>\n",
       "      <td>1.414315</td>\n",
       "      <td>-1.183497</td>\n",
       "      <td>-1.540837</td>\n",
       "      <td>0.736846</td>\n",
       "      <td>-0.707883</td>\n",
       "      <td>1.252838</td>\n",
       "      <td>-0.333063</td>\n",
       "    </tr>\n",
       "    <tr>\n",
       "      <th>26728</th>\n",
       "      <td>1.573328</td>\n",
       "      <td>-0.291256</td>\n",
       "      <td>-0.176138</td>\n",
       "      <td>-0.349940</td>\n",
       "      <td>0.767836</td>\n",
       "      <td>0.021244</td>\n",
       "      <td>-1.561895</td>\n",
       "      <td>-1.742041</td>\n",
       "      <td>-0.051987</td>\n",
       "      <td>-1.183497</td>\n",
       "      <td>-1.540837</td>\n",
       "      <td>0.736846</td>\n",
       "      <td>-0.396515</td>\n",
       "      <td>1.252838</td>\n",
       "      <td>-0.333063</td>\n",
       "    </tr>\n",
       "  </tbody>\n",
       "</table>\n",
       "<p>26729 rows × 15 columns</p>\n",
       "</div>"
      ],
      "text/plain": [
       "       has_name  name_len  name_words_num  name_freq      year     month  \\\n",
       "0     -0.635595  1.107036       -0.176138  -0.396611 -0.580974 -1.409043   \n",
       "1     -0.635595 -0.291256       -0.176138   0.116771 -1.929785  0.879415   \n",
       "2     -0.635595  0.407890       -0.176138  -0.536624  0.767836 -1.695100   \n",
       "3      1.573328 -0.291256       -0.176138  -0.349940 -0.580974  0.021244   \n",
       "4      1.573328 -0.291256       -0.176138  -0.349940 -1.929785  1.165473   \n",
       "...         ...       ...             ...        ...       ...       ...   \n",
       "26724  1.573328 -0.291256       -0.176138  -0.349940  0.767836 -0.550871   \n",
       "26725  1.573328 -0.291256       -0.176138  -0.349940  2.116647 -1.695100   \n",
       "26726 -0.635595 -0.990403       -0.176138   1.050194  0.767836 -1.122985   \n",
       "26727  1.573328 -0.291256       -0.176138  -0.349940 -0.580974 -0.836928   \n",
       "26728  1.573328 -0.291256       -0.176138  -0.349940  0.767836  0.021244   \n",
       "\n",
       "            day      hour   weekday    is_dog  sterilization       sex  \\\n",
       "0     -0.421688  1.020412 -0.540755  0.844954       0.440451  0.736846   \n",
       "1     -0.307667 -0.640992  1.414315 -1.183497       0.440451 -1.015860   \n",
       "2      1.744707 -0.719638  0.925548  0.844954       0.440451  0.736846   \n",
       "3     -0.535709  1.251436  0.436780 -1.183497      -1.540837  0.736846   \n",
       "4     -0.079626 -0.601669  0.436780  0.844954       0.440451  0.736846   \n",
       "...         ...       ...       ...       ...            ...       ...   \n",
       "26724 -0.193646 -0.876931 -0.051987 -1.183497      -1.540837  0.736846   \n",
       "26725  0.490478  1.202282 -0.540755 -1.183497       0.440451 -1.015860   \n",
       "26726 -0.763750 -0.400138 -1.518290  0.844954       0.440451  0.736846   \n",
       "26727  1.288624 -0.749131  1.414315 -1.183497      -1.540837  0.736846   \n",
       "26728 -1.561895 -1.742041 -0.051987 -1.183497      -1.540837  0.736846   \n",
       "\n",
       "          years  is_domestic   is_Bull  \n",
       "0     -0.396515    -0.798188 -0.333063  \n",
       "1     -0.396515     1.252838 -0.333063  \n",
       "2     -0.059276    -0.798188  3.002434  \n",
       "3     -0.714351     1.252838 -0.333063  \n",
       "4     -0.059276    -0.798188 -0.333063  \n",
       "...         ...          ...       ...  \n",
       "26724 -0.705650     1.252838 -0.333063  \n",
       "26725 -0.649444     1.252838 -0.333063  \n",
       "26726  0.615202    -0.798188  3.002434  \n",
       "26727 -0.707883     1.252838 -0.333063  \n",
       "26728 -0.396515     1.252838 -0.333063  \n",
       "\n",
       "[26729 rows x 15 columns]"
      ]
     },
     "execution_count": 75,
     "metadata": {},
     "output_type": "execute_result"
    }
   ],
   "source": [
    "X_sdt = scaler.transform(X)\n",
    "X_sdt = pd.DataFrame(X_sdt, columns=X.columns)\n",
    "X_sdt"
   ]
  },
  {
   "cell_type": "code",
   "execution_count": 76,
   "metadata": {},
   "outputs": [],
   "source": [
    "X_train, X_test, y_train, y_test = train_test_split(X_sdt, y, test_size=0.2, random_state=42)"
   ]
  },
  {
   "cell_type": "code",
   "execution_count": 77,
   "metadata": {},
   "outputs": [],
   "source": [
    "grid = {'C': [0.01, 0.1, 1], \n",
    "       'penalty':['l1', 'l2'],\n",
    "       'tol':[0.001, 0.0001, 0.00001],\n",
    "       'solver':['newton-cg', 'lbfgs', 'liblinear', 'sag', 'saga']}\n",
    "gridsearch = GridSearchCV(LogisticRegression(), grid, cv=5, n_jobs=-1, verbose=1)"
   ]
  },
  {
   "cell_type": "code",
   "execution_count": 78,
   "metadata": {},
   "outputs": [
    {
     "name": "stdout",
     "output_type": "stream",
     "text": [
      "Fitting 5 folds for each of 90 candidates, totalling 450 fits\n"
     ]
    },
    {
     "name": "stderr",
     "output_type": "stream",
     "text": [
      "[Parallel(n_jobs=-1)]: Using backend LokyBackend with 4 concurrent workers.\n",
      "[Parallel(n_jobs=-1)]: Done 130 tasks      | elapsed:   18.1s\n",
      "[Parallel(n_jobs=-1)]: Done 362 tasks      | elapsed:  1.0min\n",
      "[Parallel(n_jobs=-1)]: Done 450 out of 450 | elapsed:  1.9min finished\n"
     ]
    },
    {
     "name": "stdout",
     "output_type": "stream",
     "text": [
      "Wall time: 1min 56s\n"
     ]
    },
    {
     "data": {
      "text/plain": [
       "GridSearchCV(cv=5, estimator=LogisticRegression(), n_jobs=-1,\n",
       "             param_grid={'C': [0.01, 0.1, 1], 'penalty': ['l1', 'l2'],\n",
       "                         'solver': ['newton-cg', 'lbfgs', 'liblinear', 'sag',\n",
       "                                    'saga'],\n",
       "                         'tol': [0.001, 0.0001, 1e-05]},\n",
       "             verbose=1)"
      ]
     },
     "execution_count": 78,
     "metadata": {},
     "output_type": "execute_result"
    }
   ],
   "source": [
    "%%time\n",
    "gridsearch.fit(X_train, y_train)"
   ]
  },
  {
   "cell_type": "code",
   "execution_count": 79,
   "metadata": {},
   "outputs": [
    {
     "data": {
      "text/plain": [
       "{'C': 0.1, 'penalty': 'l1', 'solver': 'saga', 'tol': 0.001}"
      ]
     },
     "execution_count": 79,
     "metadata": {},
     "output_type": "execute_result"
    }
   ],
   "source": [
    "gridsearch.best_params_"
   ]
  },
  {
   "cell_type": "code",
   "execution_count": 80,
   "metadata": {},
   "outputs": [],
   "source": [
    "model = LogisticRegression(C=0.1, penalty = 'l1',tol=0.001, solver='saga')"
   ]
  },
  {
   "cell_type": "code",
   "execution_count": 81,
   "metadata": {},
   "outputs": [],
   "source": [
    "# обучаем модель\n",
    "model.fit(X_train, y_train)\n",
    "Log_pred_proba = model.predict_proba(X_test )\n",
    "Log_pred = model.predict(X_test)"
   ]
  },
  {
   "cell_type": "code",
   "execution_count": 82,
   "metadata": {},
   "outputs": [
    {
     "name": "stdout",
     "output_type": "stream",
     "text": [
      "                 precision    recall  f1-score   support\n",
      "\n",
      "Return_to_owner       0.61      0.76      0.68      2219\n",
      "     Euthanasia       0.00      0.00      0.00        33\n",
      "       Adoption       0.59      0.10      0.17       298\n",
      "       Transfer       0.48      0.33      0.39       961\n",
      "           Died       0.62      0.63      0.63      1835\n",
      "\n",
      "       accuracy                           0.60      5346\n",
      "      macro avg       0.46      0.37      0.37      5346\n",
      "   weighted avg       0.59      0.60      0.58      5346\n",
      "\n"
     ]
    }
   ],
   "source": [
    "report_2 = classification_report(y_test, Log_pred, target_names=data.OutcomeType.unique())\n",
    "print(report_2)"
   ]
  },
  {
   "cell_type": "code",
   "execution_count": 83,
   "metadata": {},
   "outputs": [
    {
     "data": {
      "image/png": "[encoded data removed]",
      "text/plain": [
       "<Figure size 432x288 with 1 Axes>"
      ]
     },
     "metadata": {
      "needs_background": "light"
     },
     "output_type": "display_data"
    }
   ],
   "source": [
    "# precision recall curve\n",
    "precision = dict()\n",
    "recall = dict()\n",
    "for i in range(n_classes):\n",
    "    precision[i], recall[i], _ = precision_recall_curve(y_test_bin[:, i],\n",
    "                                                        Log_pred_proba[:, i])\n",
    "    plt.plot(recall[i], precision[i], lw=1, label=data.OutcomeType.unique()[i])\n",
    "    \n",
    "precision_full = pd.DataFrame.from_dict(precision, orient='index').sum(axis=0) / n_classes\n",
    "recall_full = pd.DataFrame.from_dict(recall, orient='index').sum(axis=0) / n_classes\n",
    "\n",
    "plt.plot(recall_full, precision_full, lw=1, label='Full')\n",
    "\n",
    "plt.axis([0,1,0,1]) # установка пределов осей координат\n",
    "plt.xlabel(\"recall\")\n",
    "plt.ylabel(\"precision\")\n",
    "plt.title(\"precision vs. recall curve\")\n",
    "plt.legend( loc = 1 )\n",
    "plt.grid()\n",
    "plt.show();"
   ]
  },
  {
   "cell_type": "code",
   "execution_count": 84,
   "metadata": {},
   "outputs": [
    {
     "data": {
      "text/plain": [
       "0.38639590975104504"
      ]
     },
     "execution_count": 84,
     "metadata": {},
     "output_type": "execute_result"
    }
   ],
   "source": [
    "auc( recall_full, precision_full)"
   ]
  },
  {
   "cell_type": "code",
   "execution_count": 88,
   "metadata": {},
   "outputs": [
    {
     "data": {
      "text/plain": [
       "0.7806473999467961"
      ]
     },
     "execution_count": 88,
     "metadata": {},
     "output_type": "execute_result"
    }
   ],
   "source": [
    "roc_auc_score( y_test, Log_pred_proba, multi_class = 'ovo' )"
   ]
  },
  {
   "cell_type": "markdown",
   "metadata": {},
   "source": [
    "### Вариант построения scikit-learn ниже по ссылке. Должен работать лучше!!"
   ]
  },
  {
   "cell_type": "markdown",
   "metadata": {},
   "source": [
    "https://scikit-learn.org/stable/auto_examples/model_selection/plot_precision_recall.html"
   ]
  },
  {
   "cell_type": "code",
   "execution_count": null,
   "metadata": {},
   "outputs": [],
   "source": []
  }
 ],
 "metadata": {
  "anaconda-cloud": {},
  "kernelspec": {
   "display_name": "Python 3",
   "language": "python",
   "name": "python3"
  },
  "language_info": {
   "codemirror_mode": {
    "name": "ipython",
    "version": 3
   },
   "file_extension": ".py",
   "mimetype": "text/x-python",
   "name": "python",
   "nbconvert_exporter": "python",
   "pygments_lexer": "ipython3",
   "version": "3.8.5"
  }
 },
 "nbformat": 4,
 "nbformat_minor": 2
}
